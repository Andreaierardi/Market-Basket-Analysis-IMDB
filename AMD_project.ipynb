{
  "nbformat": 4,
  "nbformat_minor": 0,
  "metadata": {
    "colab": {
      "name": "AMD-project.ipynb",
      "provenance": [],
      "collapsed_sections": [],
      "toc_visible": true,
      "authorship_tag": "ABX9TyMFXuI8R0CWQV+FY/YGRnzP",
      "include_colab_link": true
    },
    "kernelspec": {
      "display_name": "Python 3",
      "name": "python3"
    }
  },
  "cells": [
    {
      "cell_type": "markdown",
      "metadata": {
        "id": "view-in-github",
        "colab_type": "text"
      },
      "source": [
        "<a href=\"https://colab.research.google.com/github/Andreaierardi/Algorithm-for-Massive-Datasets/blob/main/AMD_project.ipynb\" target=\"_parent\"><img src=\"https://colab.research.google.com/assets/colab-badge.svg\" alt=\"Open In Colab\"/></a>"
      ]
    },
    {
      "cell_type": "markdown",
      "metadata": {
        "id": "8mD9qQ97aWqO"
      },
      "source": [
        "<br>\n",
        "\n",
        "# **Market Basket Analysis**\n",
        "\n",
        "\n",
        "---\n",
        "<br>\n",
        "\n",
        "## Algorithm for Massive Datasets project\n",
        "\n",
        "### University of Milan\n",
        "### Data Science and Economics\n",
        "\n",
        "<br>\n",
        "<br>\n",
        "\n",
        "**Author**: Andrea Ierardi\n",
        "\n",
        "\n",
        "Student's ID: 960188"
      ]
    },
    {
      "cell_type": "markdown",
      "metadata": {
        "id": "qcSH2Q4v-Zj0"
      },
      "source": [
        "https://spark.apache.org/docs/2.4.0/sql-pyspark-pandas-with-arrow.html\n",
        "https://towardsdatascience.com/a-brief-introduction-to-pyspark-ff4284701873\n",
        "\n",
        "https://medium.com/@pcm1312/implementing-fp-growth-in-python-170f3dc64d78\n",
        "https://github.com/mehulagrawal/Apriori_and_FP-Growth/tree/master/Source\n",
        "http://rasbt.github.io/mlxtend/user_guide/frequent_patterns/fpgrowth/\n",
        "https://towardsdatascience.com/fp-growth-frequent-pattern-generation-in-data-mining-with-python-implementation-244e561ab1c3"
      ]
    },
    {
      "cell_type": "markdown",
      "metadata": {
        "id": "FC6Bk4wMbE8t"
      },
      "source": [
        "<br>\n",
        "<br>\n",
        "\n",
        "# **Dataset download using Kaggle API**"
      ]
    },
    {
      "cell_type": "code",
      "metadata": {
        "id": "DMNmalYrZzLt"
      },
      "source": [
        "#!pip install kaggle"
      ],
      "execution_count": 2,
      "outputs": []
    },
    {
      "cell_type": "code",
      "metadata": {
        "colab": {
          "base_uri": "https://localhost:8080/"
        },
        "id": "pak0T24iZ6l5",
        "outputId": "639eed4c-f732-40fb-ae89-55bd5b73230b"
      },
      "source": [
        "from google.colab import drive\n",
        "drive.mount('/content/gdrive')\n",
        "\n",
        "\n",
        "import os\n",
        "os.environ['KAGGLE_CONFIG_DIR'] = \"/content/gdrive/My Drive/Kaggle\"\n",
        "\n",
        "\n",
        "%cd /content/gdrive/My Drive/Kaggle\n",
        "\n",
        "\n"
      ],
      "execution_count": 3,
      "outputs": [
        {
          "output_type": "stream",
          "text": [
            "Drive already mounted at /content/gdrive; to attempt to forcibly remount, call drive.mount(\"/content/gdrive\", force_remount=True).\n",
            "/content/gdrive/.shortcut-targets-by-id/19aHkdJBcyNlvKaxw7bq5NLu3yAmjGDbC/Kaggle\n"
          ],
          "name": "stdout"
        }
      ]
    },
    {
      "cell_type": "code",
      "metadata": {
        "id": "N-hpzAkvZk4G"
      },
      "source": [
        "#!kaggle datasets download -d ashirwadsangwan/imdb-dataset"
      ],
      "execution_count": 4,
      "outputs": []
    },
    {
      "cell_type": "code",
      "metadata": {
        "id": "9FBV35ISaUly"
      },
      "source": [
        "#!unzip imdb-dataset.zip"
      ],
      "execution_count": 5,
      "outputs": []
    },
    {
      "cell_type": "code",
      "metadata": {
        "id": "-EEbCBtFaVzJ"
      },
      "source": [
        ""
      ],
      "execution_count": 5,
      "outputs": []
    },
    {
      "cell_type": "markdown",
      "metadata": {
        "id": "2cSrL2yE76fn"
      },
      "source": [
        "<br>\n",
        "<br>\n",
        "\n",
        "# Spark Initialisation"
      ]
    },
    {
      "cell_type": "code",
      "metadata": {
        "colab": {
          "base_uri": "https://localhost:8080/"
        },
        "id": "PAj5s_2FmjbV",
        "outputId": "16b86aeb-8c21-471a-93a7-049cc264a36d"
      },
      "source": [
        "!pip install pyspark"
      ],
      "execution_count": 6,
      "outputs": [
        {
          "output_type": "stream",
          "text": [
            "Collecting pyspark\n",
            "\u001b[?25l  Downloading https://files.pythonhosted.org/packages/45/b0/9d6860891ab14a39d4bddf80ba26ce51c2f9dc4805e5c6978ac0472c120a/pyspark-3.1.1.tar.gz (212.3MB)\n",
            "\u001b[K     |████████████████████████████████| 212.3MB 69kB/s \n",
            "\u001b[?25hCollecting py4j==0.10.9\n",
            "\u001b[?25l  Downloading https://files.pythonhosted.org/packages/9e/b6/6a4fb90cd235dc8e265a6a2067f2a2c99f0d91787f06aca4bcf7c23f3f80/py4j-0.10.9-py2.py3-none-any.whl (198kB)\n",
            "\u001b[K     |████████████████████████████████| 204kB 17.7MB/s \n",
            "\u001b[?25hBuilding wheels for collected packages: pyspark\n",
            "  Building wheel for pyspark (setup.py) ... \u001b[?25l\u001b[?25hdone\n",
            "  Created wheel for pyspark: filename=pyspark-3.1.1-py2.py3-none-any.whl size=212767604 sha256=f3200a317e9ee26769372b102852c51b4cf5d0941dd78807df364a9db29a63ac\n",
            "  Stored in directory: /root/.cache/pip/wheels/0b/90/c0/01de724414ef122bd05f056541fb6a0ecf47c7ca655f8b3c0f\n",
            "Successfully built pyspark\n",
            "Installing collected packages: py4j, pyspark\n",
            "Successfully installed py4j-0.10.9 pyspark-3.1.1\n"
          ],
          "name": "stdout"
        }
      ]
    },
    {
      "cell_type": "code",
      "metadata": {
        "id": "ZXxpRFwMothn"
      },
      "source": [
        "from pyspark import SparkConf, SparkContext\n",
        "from pyspark.sql import SparkSession\n",
        "import seaborn as sns\n",
        "import matplotlib.pyplot as plt\n",
        "from wordcloud import WordCloud"
      ],
      "execution_count": 7,
      "outputs": []
    },
    {
      "cell_type": "code",
      "metadata": {
        "id": "Hgs8MSZSov60"
      },
      "source": [
        "spark = SparkSession.builder.enableHiveSupport().getOrCreate()"
      ],
      "execution_count": 8,
      "outputs": []
    },
    {
      "cell_type": "code",
      "metadata": {
        "id": "OfIKhtJAtiQc"
      },
      "source": [
        "spark.conf.set(\"spark.sql.execution.arrow.pyspark.enabled\", \"true\")"
      ],
      "execution_count": 9,
      "outputs": []
    },
    {
      "cell_type": "code",
      "metadata": {
        "id": "K_zCaF5-o6HD"
      },
      "source": [
        "ratings = spark.read.csv(\"title.ratings.tsv/title.ratings.tsv\",sep=r'\\t', header=True, inferSchema=True)\n",
        "basics = spark.read.csv(\"title.basics.tsv/title.basics.tsv\", sep=r'\\t', header = True , inferSchema=True)\n",
        "names = spark.read.csv(\"name.basics.tsv/name.basics.tsv\",sep=r'\\t', header=True, inferSchema=True)\n",
        "principals = spark.read.csv(\"title.principals.tsv/title.principals.tsv\",sep=r'\\t', header=True, inferSchema=True)\n",
        "akas = spark.read.csv(\"title.akas.tsv/title.akas.tsv\",sep=r'\\t', header=True, inferSchema=True)\n"
      ],
      "execution_count": 10,
      "outputs": []
    },
    {
      "cell_type": "code",
      "metadata": {
        "id": "z2ApYpSepYfq"
      },
      "source": [
        "ratings.createOrReplaceTempView(\"ratings\")\n",
        "basics.createOrReplaceTempView(\"basics\")\n",
        "names.createOrReplaceTempView(\"names\")\n",
        "principals.createOrReplaceTempView(\"principals\")\n",
        "akas.createOrReplaceTempView(\"akas\")"
      ],
      "execution_count": 11,
      "outputs": []
    },
    {
      "cell_type": "code",
      "metadata": {
        "colab": {
          "base_uri": "https://localhost:8080/"
        },
        "id": "aF1TwWXU6zZb",
        "outputId": "2ee62b72-5a42-4599-821c-b787ae9020a0"
      },
      "source": [
        "akas.show(5)"
      ],
      "execution_count": 12,
      "outputs": [
        {
          "output_type": "stream",
          "text": [
            "+---------+--------+--------------------+------+--------+-----------+----------+---------------+\n",
            "|  titleId|ordering|               title|region|language|      types|attributes|isOriginalTitle|\n",
            "+---------+--------+--------------------+------+--------+-----------+----------+---------------+\n",
            "|tt0000001|       1|Carmencita - span...|    HU|      \\N|imdbDisplay|        \\N|              0|\n",
            "|tt0000001|       2|          Καρμενσίτα|    GR|      \\N|         \\N|        \\N|              0|\n",
            "|tt0000001|       3|          Карменсита|    RU|      \\N|         \\N|        \\N|              0|\n",
            "|tt0000001|       4|          Carmencita|    US|      \\N|         \\N|        \\N|              0|\n",
            "|tt0000001|       5|          Carmencita|    \\N|      \\N|   original|        \\N|              1|\n",
            "+---------+--------+--------------------+------+--------+-----------+----------+---------------+\n",
            "only showing top 5 rows\n",
            "\n"
          ],
          "name": "stdout"
        }
      ]
    },
    {
      "cell_type": "code",
      "metadata": {
        "colab": {
          "base_uri": "https://localhost:8080/"
        },
        "id": "o0hMs6x76GIe",
        "outputId": "66fa22f3-1cd0-4c16-bd73-e68e54158b25"
      },
      "source": [
        "names.show(n=10)"
      ],
      "execution_count": 13,
      "outputs": [
        {
          "output_type": "stream",
          "text": [
            "+---------+---------------+---------+---------+--------------------+--------------------+\n",
            "|   nconst|    primaryName|birthYear|deathYear|   primaryProfession|      knownForTitles|\n",
            "+---------+---------------+---------+---------+--------------------+--------------------+\n",
            "|nm0000001|   Fred Astaire|     1899|     1987|soundtrack,actor,...|tt0050419,tt00531...|\n",
            "|nm0000002|  Lauren Bacall|     1924|     2014|  actress,soundtrack|tt0071877,tt01170...|\n",
            "|nm0000003|Brigitte Bardot|     1934|       \\N|actress,soundtrac...|tt0054452,tt00491...|\n",
            "|nm0000004|   John Belushi|     1949|     1982|actor,writer,soun...|tt0077975,tt00725...|\n",
            "|nm0000005| Ingmar Bergman|     1918|     2007|writer,director,a...|tt0069467,tt00509...|\n",
            "|nm0000006| Ingrid Bergman|     1915|     1982|actress,soundtrac...|tt0038109,tt00368...|\n",
            "|nm0000007|Humphrey Bogart|     1899|     1957|actor,soundtrack,...|tt0043265,tt00338...|\n",
            "|nm0000008|  Marlon Brando|     1924|     2004|actor,soundtrack,...|tt0070849,tt00787...|\n",
            "|nm0000009| Richard Burton|     1925|     1984|actor,producer,so...|tt0057877,tt00878...|\n",
            "|nm0000010|   James Cagney|     1899|     1986|actor,soundtrack,...|tt0035575,tt00318...|\n",
            "+---------+---------------+---------+---------+--------------------+--------------------+\n",
            "only showing top 10 rows\n",
            "\n"
          ],
          "name": "stdout"
        }
      ]
    },
    {
      "cell_type": "code",
      "metadata": {
        "colab": {
          "base_uri": "https://localhost:8080/"
        },
        "id": "-ZXwYIHZrquQ",
        "outputId": "c92bc31b-4333-43ef-8c2b-ecd45bc41fa8"
      },
      "source": [
        "basics.show(n = 5)"
      ],
      "execution_count": 14,
      "outputs": [
        {
          "output_type": "stream",
          "text": [
            "+---------+---------+--------------------+--------------------+-------+---------+-------+--------------+--------------------+\n",
            "|   tconst|titleType|        primaryTitle|       originalTitle|isAdult|startYear|endYear|runtimeMinutes|              genres|\n",
            "+---------+---------+--------------------+--------------------+-------+---------+-------+--------------+--------------------+\n",
            "|tt0000001|    short|          Carmencita|          Carmencita|      0|     1894|     \\N|             1|   Documentary,Short|\n",
            "|tt0000002|    short|Le clown et ses c...|Le clown et ses c...|      0|     1892|     \\N|             5|     Animation,Short|\n",
            "|tt0000003|    short|      Pauvre Pierrot|      Pauvre Pierrot|      0|     1892|     \\N|             4|Animation,Comedy,...|\n",
            "|tt0000004|    short|         Un bon bock|         Un bon bock|      0|     1892|     \\N|            \\N|     Animation,Short|\n",
            "|tt0000005|    short|    Blacksmith Scene|    Blacksmith Scene|      0|     1893|     \\N|             1|        Comedy,Short|\n",
            "+---------+---------+--------------------+--------------------+-------+---------+-------+--------------+--------------------+\n",
            "only showing top 5 rows\n",
            "\n"
          ],
          "name": "stdout"
        }
      ]
    },
    {
      "cell_type": "code",
      "metadata": {
        "colab": {
          "base_uri": "https://localhost:8080/"
        },
        "id": "N9EyKUUHrrXc",
        "outputId": "4a79eca7-8bab-41e0-e632-33c3952cae42"
      },
      "source": [
        "ratings.show(n = 5)"
      ],
      "execution_count": 15,
      "outputs": [
        {
          "output_type": "stream",
          "text": [
            "+---------+-------------+--------+\n",
            "|   tconst|averageRating|numVotes|\n",
            "+---------+-------------+--------+\n",
            "|tt0000001|          5.6|    1550|\n",
            "|tt0000002|          6.1|     186|\n",
            "|tt0000003|          6.5|    1207|\n",
            "|tt0000004|          6.2|     113|\n",
            "|tt0000005|          6.1|    1934|\n",
            "+---------+-------------+--------+\n",
            "only showing top 5 rows\n",
            "\n"
          ],
          "name": "stdout"
        }
      ]
    },
    {
      "cell_type": "code",
      "metadata": {
        "colab": {
          "base_uri": "https://localhost:8080/"
        },
        "id": "3Pr1RnXcrrk9",
        "outputId": "2fde8050-89e5-4b61-f133-f226dac81a8c"
      },
      "source": [
        "principals.show(n = 5)"
      ],
      "execution_count": 16,
      "outputs": [
        {
          "output_type": "stream",
          "text": [
            "+---------+--------+---------+---------------+--------------------+-----------+\n",
            "|   tconst|ordering|   nconst|       category|                 job| characters|\n",
            "+---------+--------+---------+---------------+--------------------+-----------+\n",
            "|tt0000001|       1|nm1588970|           self|                  \\N|[\"Herself\"]|\n",
            "|tt0000001|       2|nm0005690|       director|                  \\N|         \\N|\n",
            "|tt0000001|       3|nm0374658|cinematographer|director of photo...|         \\N|\n",
            "|tt0000002|       1|nm0721526|       director|                  \\N|         \\N|\n",
            "|tt0000002|       2|nm1335271|       composer|                  \\N|         \\N|\n",
            "+---------+--------+---------+---------------+--------------------+-----------+\n",
            "only showing top 5 rows\n",
            "\n"
          ],
          "name": "stdout"
        }
      ]
    },
    {
      "cell_type": "code",
      "metadata": {
        "colab": {
          "base_uri": "https://localhost:8080/"
        },
        "id": "y7Qgg-gdrwAe",
        "outputId": "ead7f467-cb51-450c-d45e-ac48bf2f8faf"
      },
      "source": [
        "akas.show(n = 5)"
      ],
      "execution_count": 17,
      "outputs": [
        {
          "output_type": "stream",
          "text": [
            "+---------+--------+--------------------+------+--------+-----------+----------+---------------+\n",
            "|  titleId|ordering|               title|region|language|      types|attributes|isOriginalTitle|\n",
            "+---------+--------+--------------------+------+--------+-----------+----------+---------------+\n",
            "|tt0000001|       1|Carmencita - span...|    HU|      \\N|imdbDisplay|        \\N|              0|\n",
            "|tt0000001|       2|          Καρμενσίτα|    GR|      \\N|         \\N|        \\N|              0|\n",
            "|tt0000001|       3|          Карменсита|    RU|      \\N|         \\N|        \\N|              0|\n",
            "|tt0000001|       4|          Carmencita|    US|      \\N|         \\N|        \\N|              0|\n",
            "|tt0000001|       5|          Carmencita|    \\N|      \\N|   original|        \\N|              1|\n",
            "+---------+--------+--------------------+------+--------+-----------+----------+---------------+\n",
            "only showing top 5 rows\n",
            "\n"
          ],
          "name": "stdout"
        }
      ]
    },
    {
      "cell_type": "code",
      "metadata": {
        "colab": {
          "base_uri": "https://localhost:8080/"
        },
        "id": "92G0uUSys9NQ",
        "outputId": "8af674a8-195d-4eb8-ad70-4c72644540ca"
      },
      "source": [
        "akas.printSchema()"
      ],
      "execution_count": 18,
      "outputs": [
        {
          "output_type": "stream",
          "text": [
            "root\n",
            " |-- titleId: string (nullable = true)\n",
            " |-- ordering: integer (nullable = true)\n",
            " |-- title: string (nullable = true)\n",
            " |-- region: string (nullable = true)\n",
            " |-- language: string (nullable = true)\n",
            " |-- types: string (nullable = true)\n",
            " |-- attributes: string (nullable = true)\n",
            " |-- isOriginalTitle: string (nullable = true)\n",
            "\n"
          ],
          "name": "stdout"
        }
      ]
    },
    {
      "cell_type": "markdown",
      "metadata": {
        "id": "4KAToyqTbZDP"
      },
      "source": [
        "<br>\n",
        "<br>\n",
        "\n",
        "# Data Cleaning"
      ]
    },
    {
      "cell_type": "markdown",
      "metadata": {
        "id": "MOK0KTcPowJ8"
      },
      "source": [
        ""
      ]
    },
    {
      "cell_type": "markdown",
      "metadata": {
        "id": "XFdPtytSowMV"
      },
      "source": [
        ""
      ]
    },
    {
      "cell_type": "markdown",
      "metadata": {
        "id": "s2tvzn7rowO8"
      },
      "source": [
        ""
      ]
    },
    {
      "cell_type": "code",
      "metadata": {
        "id": "9SmRXH7hbc5c"
      },
      "source": [
        "#import pandas as pd"
      ],
      "execution_count": 19,
      "outputs": []
    },
    {
      "cell_type": "code",
      "metadata": {
        "id": "xU8mOczBxkZ2"
      },
      "source": [
        "#names = pd.read_csv(\"name.basics.tsv/name.basics.tsv\", sep='\\t')"
      ],
      "execution_count": 20,
      "outputs": []
    },
    {
      "cell_type": "code",
      "metadata": {
        "id": "MB9TZZ27xriH"
      },
      "source": [
        "#names"
      ],
      "execution_count": 21,
      "outputs": []
    },
    {
      "cell_type": "code",
      "metadata": {
        "id": "IR7UeIaqcQvV"
      },
      "source": [
        "#ratings = pd.read_csv(\"title.ratings.tsv/title.ratings.tsv\", sep='\\t')"
      ],
      "execution_count": 22,
      "outputs": []
    },
    {
      "cell_type": "code",
      "metadata": {
        "id": "O753GYzvlFAI"
      },
      "source": [
        "#ratings"
      ],
      "execution_count": 23,
      "outputs": []
    },
    {
      "cell_type": "code",
      "metadata": {
        "id": "ZQUiYchYkyHE"
      },
      "source": [
        "#principals = pd.read_csv(\"title.principals.tsv/title.principals.tsv\", sep='\\t')"
      ],
      "execution_count": 24,
      "outputs": []
    },
    {
      "cell_type": "code",
      "metadata": {
        "id": "BF3yvU_5fQhH"
      },
      "source": [
        "#principals.head(10)"
      ],
      "execution_count": 25,
      "outputs": []
    },
    {
      "cell_type": "code",
      "metadata": {
        "id": "2Mw98kqik2H6"
      },
      "source": [
        "#basics = pd.read_csv(\"title.basics.tsv/title.basics.tsv\", sep='\\t')"
      ],
      "execution_count": 26,
      "outputs": []
    },
    {
      "cell_type": "code",
      "metadata": {
        "id": "16r_8X_OfUwd"
      },
      "source": [
        "#basics.head(10)"
      ],
      "execution_count": 27,
      "outputs": []
    },
    {
      "cell_type": "code",
      "metadata": {
        "id": "SkpyKVzAk779"
      },
      "source": [
        "#akas = pd.read_csv(\"title.akas.tsv/title.akas.tsv\", sep='\\t')"
      ],
      "execution_count": 28,
      "outputs": []
    },
    {
      "cell_type": "code",
      "metadata": {
        "id": "lQLcJQjOUNOn"
      },
      "source": [
        "#dir(spark.sql)"
      ],
      "execution_count": 29,
      "outputs": []
    },
    {
      "cell_type": "code",
      "metadata": {
        "colab": {
          "base_uri": "https://localhost:8080/"
        },
        "id": "sTJCadBPSnZC",
        "outputId": "fb1e166e-1277-428e-c168-d945a885683f"
      },
      "source": [
        "query = \"\"\"SELECT COUNT(category) \n",
        "           FROM principals\n",
        "           WHERE category = 'actor'\n",
        "            \"\"\"\n",
        "\n",
        "res = spark.sql(query)\n",
        "res.show()"
      ],
      "execution_count": 30,
      "outputs": [
        {
          "output_type": "stream",
          "text": [
            "+---------------+\n",
            "|count(category)|\n",
            "+---------------+\n",
            "|        8493701|\n",
            "+---------------+\n",
            "\n"
          ],
          "name": "stdout"
        }
      ]
    },
    {
      "cell_type": "code",
      "metadata": {
        "id": "N_p8BvcXi07_"
      },
      "source": [
        "filter_principals = principals.filter( (principals.category == \"actor\") | (principals.category == \"actress\"))"
      ],
      "execution_count": 31,
      "outputs": []
    },
    {
      "cell_type": "code",
      "metadata": {
        "colab": {
          "base_uri": "https://localhost:8080/"
        },
        "id": "q98uk4Y9i77p",
        "outputId": "3eca3533-be30-4882-d514-ecbd6930efdd"
      },
      "source": [
        "filter_principals.show(200)"
      ],
      "execution_count": 32,
      "outputs": [
        {
          "output_type": "stream",
          "text": [
            "+---------+--------+----------+--------+---+--------------------+\n",
            "|   tconst|ordering|    nconst|category|job|          characters|\n",
            "+---------+--------+----------+--------+---+--------------------+\n",
            "|tt0000005|       1| nm0443482|   actor| \\N|      [\"Blacksmith\"]|\n",
            "|tt0000005|       2| nm0653042|   actor| \\N|       [\"Assistant\"]|\n",
            "|tt0000007|       1| nm0179163|   actor| \\N|                  \\N|\n",
            "|tt0000007|       2| nm0183947|   actor| \\N|                  \\N|\n",
            "|tt0000008|       1| nm0653028|   actor| \\N|    [\"Sneezing Man\"]|\n",
            "|tt0000009|       1| nm0063086| actress| \\N|[\"Miss Geraldine ...|\n",
            "|tt0000009|       2| nm0183823|   actor| \\N|    [\"Mr. Hamilton\"]|\n",
            "|tt0000009|       3| nm1309758|   actor| \\N|[\"Chauncey Depew ...|\n",
            "|tt0000011|       1| nm3692297|   actor| \\N|        [\"Acrobats\"]|\n",
            "|tt0000014|       1| nm0166380|   actor| \\N|    [\"The Gardener\"]|\n",
            "|tt0000014|       2| nm0244989|   actor| \\N|         [\"The Boy\"]|\n",
            "|tt0000017|       1| nm3691272|   actor| \\N|         [\"The boy\"]|\n",
            "|tt0000017|       2| nm3692829| actress| \\N|        [\"The girl\"]|\n",
            "|tt0000018|       1| nm3692071|   actor| \\N|       [\"The Boxer\"]|\n",
            "|tt0000026|       1| nm2350007|   actor| \\N|           [\"Valet\"]|\n",
            "|tt0000026|       2| nm0525907|   actor| \\N|[\"Man playing car...|\n",
            "|tt0000026|       3| nm1151424|   actor| \\N|[\"Man playing car...|\n",
            "|tt0000026|       4| nm2354154|   actor| \\N|[\"Man playing car...|\n",
            "|tt0000032|       1| nm3692479| actress| \\N|      [\"The dancer\"]|\n",
            "|tt0000036|       1| nm0420198|   actor| \\N|  [\"Rip Van Winkle\"]|\n",
            "|tt0000061|       1| nm4007970| actress| \\N|                  \\N|\n",
            "|tt0000063|       1| nm0617588|   actor| \\N|  [\"Georges Méliès\"]|\n",
            "|tt0000064|       1| nm0617588|   actor| \\N|[\"Lightening Sket...|\n",
            "|tt0000065|       1| nm0617588|   actor| \\N|[\"Lightening Sket...|\n",
            "|tt0000066|       1| nm0617588|   actor| \\N|[\"Lightening Sket...|\n",
            "|tt0000070|       1| nm0525908|   actor| \\N|                  \\N|\n",
            "|tt0000075|       1| nm0194945| actress| \\N|           [\"Woman\"]|\n",
            "|tt0000075|       2| nm0617588|   actor| \\N|        [\"Magician\"]|\n",
            "|tt0000076|       1| nm0420198|   actor| \\N|  [\"Rip Van Winkle\"]|\n",
            "|tt0000091|       1| nm0194945| actress| \\N|     [\"Young woman\"]|\n",
            "|tt0000091|       2| nm6170115|   actor| \\N|  [\"Mephistopheles\"]|\n",
            "|tt0000091|       3| nm0617588|   actor| \\N|  [\"Mephistopheles\"]|\n",
            "|tt0000108|       1| nm0420198|   actor| \\N|  [\"Rip Van Winkle\"]|\n",
            "|tt0000109|       1| nm0420198|   actor| \\N|  [\"Rip Van Winkle\"]|\n",
            "|tt0000110|       1| nm0420198|   actor| \\N|  [\"Rip Van Winkle\"]|\n",
            "|tt0000111|       1| nm0420198|   actor| \\N|  [\"Rip Van Winkle\"]|\n",
            "|tt0000112|       1| nm0420198|   actor| \\N|  [\"Rip Van Winkle\"]|\n",
            "|tt0000113|       1| nm0420198|   actor| \\N|  [\"Rip Van Winkle\"]|\n",
            "|tt0000121|       1| nm0832461|   actor| \\N|     [\"The Soldier\"]|\n",
            "|tt0000121|       2| nm0780534| actress| \\N|        [\"The Girl\"]|\n",
            "|tt0000121|       3| nm5718242| actress| \\N|       [\"The Woman\"]|\n",
            "|tt0000131|       1| nm0617588|   actor| \\N|[\"L'homme qui ess...|\n",
            "|tt0000132|       1| nm9342429| actress| \\N|     [\"La Serveuse\"]|\n",
            "|tt0000132|       2| nm0577734|   actor| \\N|[\"Un joueur de ca...|\n",
            "|tt0000132|       3| nm0617588|   actor| \\N|[\"Un joueur de ca...|\n",
            "|tt0000132|       4| nm3029234| actress| \\N| [\"La petite fille\"]|\n",
            "|tt0000138|       1| nm0617588|   actor| \\N|       [\"Inn Guest\"]|\n",
            "|tt0000142|       1| nm0168621|   actor| \\N|                  \\N|\n",
            "|tt0000151|       1| nm0194945| actress| \\N|                  \\N|\n",
            "|tt0000152|       1| nm0617588|   actor| \\N|                  \\N|\n",
            "|tt0000165|       1| nm0024876|   actor| \\N|                  \\N|\n",
            "|tt0000165|       2| nm0278321|   actor| \\N|                  \\N|\n",
            "|tt0000165|       3| nm0005717|   actor| \\N|                  \\N|\n",
            "|tt0000165|       4| nm0556371|   actor| \\N|                  \\N|\n",
            "|tt0000165|       6| nm0563758|   actor| \\N|                  \\N|\n",
            "|tt0000172|       1| nm0809419| actress| \\N|                  \\N|\n",
            "|tt0000172|       2| nm0338379|   actor| \\N|       [\"Professor\"]|\n",
            "|tt0000174|       1| nm0841389|   actor| \\N|  [\"Sausage Vendor\"]|\n",
            "|tt0000174|       2| nm1024447|   actor| \\N|         [\"Sticker\"]|\n",
            "|tt0000177|       1| nm0085865|   actor| \\N|     [\"The Burglar\"]|\n",
            "|tt0000181|       1| nm0809419| actress| \\N|      [\"Cinderella\"]|\n",
            "|tt0000190|       1| nm0841389|   actor| \\N| [\"Old Philanderer\"]|\n",
            "|tt0000190|       2| nm1024447|   actor| \\N|  [\"Man with Broom\"]|\n",
            "|tt0000210|       1| nm0617588|   actor| \\N|                  \\N|\n",
            "|tt0000211|       1| nm0194945| actress| \\N|[\"Phoebe - la bon...|\n",
            "|tt0000211|       2| nm0617588|   actor| \\N|     [\"L'astronome\"]|\n",
            "|tt0000214|       1| nm0085865|   actor| \\N|[\"Hand that tears...|\n",
            "|tt0000215|       1| nm0841389|   actor| \\N|                  \\N|\n",
            "|tt0000218|       1| nm0617588|   actor| \\N|  [\"Fernand Labori\"]|\n",
            "|tt0000230|       1| nm1333156| actress| \\N|      [\"Cinderella\"]|\n",
            "|tt0000230|       2| nm0076933| actress| \\N|[\"The Fairy Godmo...|\n",
            "|tt0000230|       3| nm1778224|   actor| \\N| [\"Prince Charming\"]|\n",
            "|tt0000230|       4| nm0194945| actress| \\N| [\"Fairy Godmother\"]|\n",
            "|tt0000230|       7| nm1778292|   actor| \\N|     [\"Party Guest\"]|\n",
            "|tt0000234|       1| nm0194945| actress| \\N|       [\"Cleopatre\"]|\n",
            "|tt0000234|       2| nm0617588|   actor| \\N|     [\"Tomb Digger\"]|\n",
            "|tt0000235|       1| nm0194945| actress| \\N|          [\"Ayesha\"]|\n",
            "|tt0000235|       2| nm0617588|   actor| \\N|       [\"The Devil\"]|\n",
            "|tt0000242|       1| nm0617588|   actor| \\N|       [\"The Devil\"]|\n",
            "|tt0000246|       1| nm0617588|   actor| \\N|        [\"Magician\"]|\n",
            "|tt0000247|       1| nm0002504|   actor| \\N|       [\"King John\"]|\n",
            "|tt0000247|       2| nm0784327|   actor| \\N|    [\"Prince Henry\"]|\n",
            "|tt0000247|       3| nm2259742|   actor| \\N|          [\"Arthur\"]|\n",
            "|tt0000247|       4| nm0924893|   actor| \\N|[\"Earl of Pembroke\"]|\n",
            "|tt0000248|       1| nm0809419| actress| \\N|            [\"Wife\"]|\n",
            "|tt0000248|       2| nm0808310|   actor| \\N|         [\"Husband\"]|\n",
            "|tt0000261|       1| nm0617588|   actor| \\N|[\"The Sleeping Man\"]|\n",
            "|tt0000264|       1| nm0617588|   actor| \\N|  [\"L'illusioniste\"]|\n",
            "|tt0000265|       1| nm0335788|   actor| \\N|   [\"Chimmie Hicks\"]|\n",
            "|tt0000273|       1| nm1040375|   actor| \\N|     [\"The Officer\"]|\n",
            "|tt0000273|       2| nm1894886|   actor| \\N|  [\"The Missionary\"]|\n",
            "|tt0000273|       3| nm1895457| actress| \\N|        [\"The Girl\"]|\n",
            "|tt0000279|       1| nm0168621|   actor| \\N|                  \\N|\n",
            "|tt0000280|       1| nm0168621|   actor| \\N|                  \\N|\n",
            "|tt0000281|       1| nm0168621|   actor| \\N|                  \\N|\n",
            "|tt0000296|       1|nm10501864| actress| \\N|          [\"Dancer\"]|\n",
            "|tt0000300|       1| nm0085865|   actor| \\N|[\"Chalk-Talk Arti...|\n",
            "|tt0000304|       1| nm2940072|   actor| \\N|[\"Willy - the lit...|\n",
            "|tt0000305|       1| nm0112631| actress| \\N|                  \\N|\n",
            "|tt0000306|       1| nm0076800| actress| \\N|          [\"Hamlet\"]|\n",
            "|tt0000306|       2| nm0536252|   actor| \\N|         [\"Laertes\"]|\n",
            "|tt0000306|       3| nm1267013| actress| \\N|          [\"A page\"]|\n",
            "|tt0000307|       1| nm0085865|   actor| \\N|  [\"Happy Hooligan\"]|\n",
            "|tt0000308|       1| nm2940350| actress| \\N|     [\"Little girl\"]|\n",
            "|tt0000308|       2| nm2940072|   actor| \\N|  [\"Little brother\"]|\n",
            "|tt0000309|       1| nm0164281| actress| \\N|       [\"Passenger\"]|\n",
            "|tt0000309|       2| nm0378408|   actor| \\N|          [\"Driver\"]|\n",
            "|tt0000310|       1| nm0335788|   actor| \\N|   [\"Chimmie Hicks\"]|\n",
            "|tt0000310|       2| nm0151209| actress| \\N|                  \\N|\n",
            "|tt0000313|       1| nm0809419| actress| \\N|     [\"Young woman\"]|\n",
            "|tt0000313|       2| nm0338379|   actor| \\N|             [\"Man\"]|\n",
            "|tt0000318|       1| nm0804433|   actor| \\N|         [\"Koechin\"]|\n",
            "|tt0000319|       1| nm1272063|   actor| \\N|                  \\N|\n",
            "|tt0000319|       2| nm1272675|   actor| \\N|                  \\N|\n",
            "|tt0000325|       1| nm0112631| actress| \\N|                  \\N|\n",
            "|tt0000326|       1| nm0112631| actress| \\N|                  \\N|\n",
            "|tt0000335|       1| nm1010955| actress| \\N|                  \\N|\n",
            "|tt0000335|       2| nm1012612|   actor| \\N|                  \\N|\n",
            "|tt0000335|       3| nm1011210|   actor| \\N|                  \\N|\n",
            "|tt0000335|       4| nm1012621|   actor| \\N|                  \\N|\n",
            "|tt0000335|       7| nm0675239|   actor| \\N|            [\"Lion\"]|\n",
            "|tt0000335|       8| nm0675260|   actor| \\N|            [\"Lion\"]|\n",
            "|tt0000340|       1| nm0542567|   actor| \\N|      [\"Uncle Josh\"]|\n",
            "|tt0000341|       1| nm0542567|   actor| \\N|      [\"Uncle Josh\"]|\n",
            "|tt0000347|       1| nm0168621|   actor| \\N|                  \\N|\n",
            "|tt0000351|       1| nm0462306| actress| \\N|                  \\N|\n",
            "|tt0000351|       2| nm0815907| actress| \\N|                  \\N|\n",
            "|tt0000358|       1| nm0509806|   actor| \\N|                  \\N|\n",
            "|tt0000358|       2| nm1778194|   actor| \\N|                  \\N|\n",
            "|tt0000358|       3| nm0954087|   actor| \\N|                  \\N|\n",
            "|tt0000359|       1| nm0617588|   actor| \\N|[\"The Chemist\",\"T...|\n",
            "|tt0000360|       1| nm0462306| actress| \\N|     [\"La Grisette\"]|\n",
            "|tt0000360|       2| nm0815907| actress| \\N|      [\"Le Hussard\"]|\n",
            "|tt0000368|       1| nm1089829| actress| \\N|[\"Little Red Ridi...|\n",
            "|tt0000370|       1| nm8709803|   actor| \\N|[\"Ebenezer Scrooge\"]|\n",
            "|tt0000376|      10| nm0466448|   actor| \\N|                  \\N|\n",
            "|tt0000376|       1| nm0617272| actress| \\N|          [\"Salome\"]|\n",
            "|tt0000376|       2| nm0086082| actress| \\N|                  \\N|\n",
            "|tt0000376|       3| nm0632577| actress| \\N|                  \\N|\n",
            "|tt0000376|       4| nm0631776| actress| \\N|                  \\N|\n",
            "|tt0000376|       8| nm0078562| actress| \\N|          [\"Táncos\"]|\n",
            "|tt0000376|       9| nm0051042| actress| \\N|                  \\N|\n",
            "|tt0000378|       1| nm0462306| actress| \\N|                  \\N|\n",
            "|tt0000378|       2| nm0815907| actress| \\N|                  \\N|\n",
            "|tt0000381|       1| nm0168621|   actor| \\N|                  \\N|\n",
            "|tt0000387|       1| nm5394591|   actor| \\N|[\"Attendant Beari...|\n",
            "|tt0000388|       1| nm0260089| actress| \\N|                  \\N|\n",
            "|tt0000399|       1| nm0924920|   actor| \\N|          [\"Farmer\"]|\n",
            "|tt0000399|       2| nm0925513|   actor| \\N|            [\"Jack\"]|\n",
            "|tt0000402|       1| nm0338379|   actor| \\N|                  \\N|\n",
            "|tt0000409|       1|nm10994733| actress| \\N|         [\"Husband\"]|\n",
            "|tt0000409|       2| nm4905952| actress| \\N|                  \\N|\n",
            "|tt0000409|       3| nm4906549| actress| \\N|                  \\N|\n",
            "|tt0000413|       1| nm0617588|   actor| \\N|[\"The Blonde Mise...|\n",
            "|tt0000414|       1| nm0542567|   actor| \\N|      [\"Uncle Josh\"]|\n",
            "|tt0000417|       1| nm0617588|   actor| \\N|[\"Prof. Barbenfou...|\n",
            "|tt0000417|       2| nm0029244|   actor| \\N|      [\"Astronomer\"]|\n",
            "|tt0000417|       3| nm0076933| actress| \\N|[\"Lady in the Moon\"]|\n",
            "|tt0000417|       4| nm1215996|   actor| \\N|      [\"Astronomer\"]|\n",
            "|tt0000420|       1| nm0164281| actress| \\N|           [\"Alice\"]|\n",
            "|tt0000420|       2| nm0378408|   actor| \\N|            [\"Frog\"]|\n",
            "|tt0000420|       3| nm1012587|   actor| \\N|       [\"Large dog\"]|\n",
            "|tt0000420|       4| nm0265714|   actor| \\N|            [\"Card\"]|\n",
            "|tt0000421|       1| nm0954087|   actor| \\N|                  \\N|\n",
            "|tt0000422|       1| nm0954087|   actor| \\N|        [\"Traveler\"]|\n",
            "|tt0000423|       1| nm0617588|   actor| \\N|                  \\N|\n",
            "|tt0000425|       1| nm0168621|   actor| \\N|                  \\N|\n",
            "|tt0000426|       1| nm0168621|   actor| \\N|                  \\N|\n",
            "|tt0000430|       1|nm10102653|   actor| \\N|    [\"Chess Player\"]|\n",
            "|tt0000432|       1| nm0954087|   actor| \\N|                  \\N|\n",
            "|tt0000434|       1| nm2940350| actress| \\N|         [\"Dorothy\"]|\n",
            "|tt0000439|      10| nm0302368|   actor| \\N|      [\"Little Boy\"]|\n",
            "|tt0000439|       1| nm0001908|   actor| \\N|[\"Bandit\",\"Shot P...|\n",
            "|tt0000439|       2| nm0007625|   actor| \\N|         [\"Sheriff\"]|\n",
            "|tt0000439|       3| nm0055607|   actor| \\N|                  \\N|\n",
            "|tt0000439|       4| nm0055661|   actor| \\N|[\"Bandit Who Fire...|\n",
            "|tt0000439|       8| nm0131750|   actor| \\N|         [\"Sheriff\"]|\n",
            "|tt0000439|       9| nm2313241|   actor| \\N|   [\"Fourth Bandit\"]|\n",
            "|tt0000440|       1| nm0617588|   actor| \\N|       [\"Musketeer\"]|\n",
            "|tt0000442|       1| nm0622273| actress| \\N| [\"Barnemordersken\"]|\n",
            "|tt0000442|       2| nm1854449|   actor| \\N|                  \\N|\n",
            "|tt0000444|       1| nm0954087|   actor| \\N|        [\"Magician\"]|\n",
            "|tt0000447|       1| nm0692105|   actor| \\N|       [\"Policeman\"]|\n",
            "|tt0000447|       2| nm0891119| actress| \\N|        [\"The Girl\"]|\n",
            "|tt0000447|       3| nm0924475|   actor| \\N|     [\"The Fireman\"]|\n",
            "|tt0000447|       4| nm0924920|   actor| \\N|      [\"Fire Chief\"]|\n",
            "|tt0000451|       1| nm0809419| actress| \\N|       [\"Mary Jane\"]|\n",
            "|tt0000452|       1| nm0001908|   actor| \\N|   [\"Messenger Boy\"]|\n",
            "|tt0000455|       1| nm0617588|   actor| \\N|  [\"The Melomaniac\"]|\n",
            "|tt0000464|       1| nm0420198|   actor| \\N|  [\"Rip Van Winkle\"]|\n",
            "|tt0000465|       1| nm0617588|   actor| \\N| [\"Prince Bel-Azor\"]|\n",
            "|tt0000465|       2| nm9473330| actress| \\N|[\"Princess Azurine\"]|\n",
            "|tt0000465|       3| nm0076933| actress| \\N|          [\"Aurora\"]|\n",
            "|tt0000465|       4| nm0214243|   actor| \\N|            [\"Role\"]|\n",
            "|tt0000465|       6| nm0243651|   actor| \\N|           [\"Extra\"]|\n",
            "|tt0000472|       1|nm10342565|   actor| \\N|   [\"Arthur Shelby\"]|\n",
            "|tt0000472|       2| nm0002615|   actor| \\N|    [\"Simon Legree\"]|\n",
            "|tt0000475|       1| nm3345408|   actor| \\N|                  \\N|\n",
            "|tt0000477|       1| nm5121267|   actor| \\N|                  \\N|\n",
            "|tt0000477|       2| nm5121475|   actor| \\N|                  \\N|\n",
            "+---------+--------+----------+--------+---+--------------------+\n",
            "only showing top 200 rows\n",
            "\n"
          ],
          "name": "stdout"
        }
      ]
    },
    {
      "cell_type": "code",
      "metadata": {
        "id": "YYPvONR4eqF0"
      },
      "source": [
        "from pyspark.sql.functions import col, lit, when\n",
        "from pyspark.sql.types import StructType, StructField, StringType,IntegerType\n"
      ],
      "execution_count": 33,
      "outputs": []
    },
    {
      "cell_type": "code",
      "metadata": {
        "id": "WpP7d18mbmLE"
      },
      "source": [
        "filter_principals = filter_principals.withColumn(\"category\", when( principals.category == \"actress\",\"actor\").otherwise(principals.category))\n",
        "\n"
      ],
      "execution_count": 34,
      "outputs": []
    },
    {
      "cell_type": "code",
      "metadata": {
        "colab": {
          "base_uri": "https://localhost:8080/"
        },
        "id": "_Qh9krqvgg0p",
        "outputId": "724c60ee-e8f0-4df5-c0f2-5389666f7ecd"
      },
      "source": [
        "filter_principals.show(30)"
      ],
      "execution_count": 35,
      "outputs": [
        {
          "output_type": "stream",
          "text": [
            "+---------+--------+---------+--------+---+--------------------+\n",
            "|   tconst|ordering|   nconst|category|job|          characters|\n",
            "+---------+--------+---------+--------+---+--------------------+\n",
            "|tt0000005|       1|nm0443482|   actor| \\N|      [\"Blacksmith\"]|\n",
            "|tt0000005|       2|nm0653042|   actor| \\N|       [\"Assistant\"]|\n",
            "|tt0000007|       1|nm0179163|   actor| \\N|                  \\N|\n",
            "|tt0000007|       2|nm0183947|   actor| \\N|                  \\N|\n",
            "|tt0000008|       1|nm0653028|   actor| \\N|    [\"Sneezing Man\"]|\n",
            "|tt0000009|       1|nm0063086|   actor| \\N|[\"Miss Geraldine ...|\n",
            "|tt0000009|       2|nm0183823|   actor| \\N|    [\"Mr. Hamilton\"]|\n",
            "|tt0000009|       3|nm1309758|   actor| \\N|[\"Chauncey Depew ...|\n",
            "|tt0000011|       1|nm3692297|   actor| \\N|        [\"Acrobats\"]|\n",
            "|tt0000014|       1|nm0166380|   actor| \\N|    [\"The Gardener\"]|\n",
            "|tt0000014|       2|nm0244989|   actor| \\N|         [\"The Boy\"]|\n",
            "|tt0000017|       1|nm3691272|   actor| \\N|         [\"The boy\"]|\n",
            "|tt0000017|       2|nm3692829|   actor| \\N|        [\"The girl\"]|\n",
            "|tt0000018|       1|nm3692071|   actor| \\N|       [\"The Boxer\"]|\n",
            "|tt0000026|       1|nm2350007|   actor| \\N|           [\"Valet\"]|\n",
            "|tt0000026|       2|nm0525907|   actor| \\N|[\"Man playing car...|\n",
            "|tt0000026|       3|nm1151424|   actor| \\N|[\"Man playing car...|\n",
            "|tt0000026|       4|nm2354154|   actor| \\N|[\"Man playing car...|\n",
            "|tt0000032|       1|nm3692479|   actor| \\N|      [\"The dancer\"]|\n",
            "|tt0000036|       1|nm0420198|   actor| \\N|  [\"Rip Van Winkle\"]|\n",
            "|tt0000061|       1|nm4007970|   actor| \\N|                  \\N|\n",
            "|tt0000063|       1|nm0617588|   actor| \\N|  [\"Georges Méliès\"]|\n",
            "|tt0000064|       1|nm0617588|   actor| \\N|[\"Lightening Sket...|\n",
            "|tt0000065|       1|nm0617588|   actor| \\N|[\"Lightening Sket...|\n",
            "|tt0000066|       1|nm0617588|   actor| \\N|[\"Lightening Sket...|\n",
            "|tt0000070|       1|nm0525908|   actor| \\N|                  \\N|\n",
            "|tt0000075|       1|nm0194945|   actor| \\N|           [\"Woman\"]|\n",
            "|tt0000075|       2|nm0617588|   actor| \\N|        [\"Magician\"]|\n",
            "|tt0000076|       1|nm0420198|   actor| \\N|  [\"Rip Van Winkle\"]|\n",
            "|tt0000091|       1|nm0194945|   actor| \\N|     [\"Young woman\"]|\n",
            "+---------+--------+---------+--------+---+--------------------+\n",
            "only showing top 30 rows\n",
            "\n"
          ],
          "name": "stdout"
        }
      ]
    },
    {
      "cell_type": "code",
      "metadata": {
        "id": "loZQssDGj6X9"
      },
      "source": [
        "filter_basics =  basics.filter(basics.titleType == \"movie\")"
      ],
      "execution_count": 36,
      "outputs": []
    },
    {
      "cell_type": "code",
      "metadata": {
        "id": "eOKR1en0kD4T"
      },
      "source": [
        "#filter_basics.show(5)"
      ],
      "execution_count": 37,
      "outputs": []
    },
    {
      "cell_type": "code",
      "metadata": {
        "id": "tZhPL1Pk2sNn"
      },
      "source": [
        "#principals['category'] = principals['category'].replace({\"actress\":\"actor\"})\n"
      ],
      "execution_count": 38,
      "outputs": []
    },
    {
      "cell_type": "code",
      "metadata": {
        "id": "AMIT2Y2rlGAx"
      },
      "source": [
        "#principals['category'].unique()"
      ],
      "execution_count": 39,
      "outputs": []
    },
    {
      "cell_type": "code",
      "metadata": {
        "id": "cqM8d5ZR2xkE"
      },
      "source": [
        "#filter_principals = principals[principals.category == \"actor\"]"
      ],
      "execution_count": 40,
      "outputs": []
    },
    {
      "cell_type": "code",
      "metadata": {
        "id": "RDJ_6h-B3YUN"
      },
      "source": [
        "#filter_principals"
      ],
      "execution_count": 41,
      "outputs": []
    },
    {
      "cell_type": "code",
      "metadata": {
        "id": "msl9G4DElHZX"
      },
      "source": [
        "#filter_basics = basics[basics.titleType == \"movie\"]\n"
      ],
      "execution_count": 42,
      "outputs": []
    },
    {
      "cell_type": "code",
      "metadata": {
        "colab": {
          "base_uri": "https://localhost:8080/"
        },
        "id": "4zEENPnAlQKV",
        "outputId": "64fd31ef-d5a6-4b84-83ae-8306b7c2dba1"
      },
      "source": [
        "filter_basics.show(10)"
      ],
      "execution_count": 43,
      "outputs": [
        {
          "output_type": "stream",
          "text": [
            "+---------+---------+--------------------+--------------------+-------+---------+-------+--------------+--------------------+\n",
            "|   tconst|titleType|        primaryTitle|       originalTitle|isAdult|startYear|endYear|runtimeMinutes|              genres|\n",
            "+---------+---------+--------------------+--------------------+-------+---------+-------+--------------+--------------------+\n",
            "|tt0000009|    movie|          Miss Jerry|          Miss Jerry|      0|     1894|     \\N|            45|             Romance|\n",
            "|tt0000147|    movie|The Corbett-Fitzs...|The Corbett-Fitzs...|      0|     1897|     \\N|            20|Documentary,News,...|\n",
            "|tt0000335|    movie|Soldiers of the C...|Soldiers of the C...|      0|     1900|     \\N|            \\N|     Biography,Drama|\n",
            "|tt0000502|    movie|            Bohemios|            Bohemios|      0|     1905|     \\N|           100|                  \\N|\n",
            "|tt0000574|    movie|The Story of the ...|The Story of the ...|      0|     1906|     \\N|            70|Biography,Crime,D...|\n",
            "|tt0000615|    movie|  Robbery Under Arms|  Robbery Under Arms|      0|     1907|     \\N|            \\N|               Drama|\n",
            "|tt0000630|    movie|              Hamlet|              Amleto|      0|     1908|     \\N|            \\N|               Drama|\n",
            "|tt0000675|    movie|         Don Quijote|         Don Quijote|      0|     1908|     \\N|            \\N|               Drama|\n",
            "|tt0000676|    movie|Don Álvaro o la f...|Don Álvaro o la f...|      0|     1908|     \\N|            \\N|               Drama|\n",
            "|tt0000679|    movie|The Fairylogue an...|The Fairylogue an...|      0|     1908|     \\N|           120|   Adventure,Fantasy|\n",
            "+---------+---------+--------------------+--------------------+-------+---------+-------+--------------+--------------------+\n",
            "only showing top 10 rows\n",
            "\n"
          ],
          "name": "stdout"
        }
      ]
    },
    {
      "cell_type": "code",
      "metadata": {
        "id": "AKESe8U5krUV"
      },
      "source": [
        "final_df = filter_principals.join(names, \"nconst\").join(filter_basics,\"tconst\").join(ratings,\"tconst\")\n",
        "final_df.createOrReplaceTempView(\"mergedataset\")"
      ],
      "execution_count": 364,
      "outputs": []
    },
    {
      "cell_type": "markdown",
      "metadata": {
        "id": "iq2_VygYCjki"
      },
      "source": [
        ""
      ]
    },
    {
      "cell_type": "code",
      "metadata": {
        "id": "Ccsvwqh39iO5"
      },
      "source": [
        ""
      ],
      "execution_count": 44,
      "outputs": []
    },
    {
      "cell_type": "markdown",
      "metadata": {
        "id": "1nAXPlQlpTwV"
      },
      "source": [
        ""
      ]
    },
    {
      "cell_type": "markdown",
      "metadata": {
        "id": "Ki2GI2YipT3b"
      },
      "source": [
        ""
      ]
    },
    {
      "cell_type": "markdown",
      "metadata": {
        "id": "5GZpffljpT-I"
      },
      "source": [
        ""
      ]
    },
    {
      "cell_type": "markdown",
      "metadata": {
        "id": "9mNbF5SspUEg"
      },
      "source": [
        ""
      ]
    },
    {
      "cell_type": "markdown",
      "metadata": {
        "id": "iB3W40VupUKt"
      },
      "source": [
        ""
      ]
    },
    {
      "cell_type": "markdown",
      "metadata": {
        "id": "FGG5QtrzpURK"
      },
      "source": [
        ""
      ]
    },
    {
      "cell_type": "markdown",
      "metadata": {
        "id": "ufF08RvvpUX1"
      },
      "source": [
        ""
      ]
    },
    {
      "cell_type": "code",
      "metadata": {
        "id": "758CEL4Z7oau"
      },
      "source": [
        "#del basics\n",
        "#del principals\n",
        "\n",
        "#import gc\n",
        "#gc.collect()"
      ],
      "execution_count": 45,
      "outputs": []
    },
    {
      "cell_type": "code",
      "metadata": {
        "id": "mKyb2OsI2biu"
      },
      "source": [
        "#filter_basics"
      ],
      "execution_count": 46,
      "outputs": []
    },
    {
      "cell_type": "code",
      "metadata": {
        "id": "9eWpCR33cCB_"
      },
      "source": [
        "#filter_basics_red = filter_basics.iloc[:,0:3]"
      ],
      "execution_count": 47,
      "outputs": []
    },
    {
      "cell_type": "code",
      "metadata": {
        "id": "LHxS4wEOdiF_"
      },
      "source": [
        "#filter_basics_red"
      ],
      "execution_count": 48,
      "outputs": []
    },
    {
      "cell_type": "code",
      "metadata": {
        "id": "2-zUT22H7mu-"
      },
      "source": [
        "#df = pd.merge(filter_principals,names,on='nconst').merge(filter_basics_red,on =\"tconst\")"
      ],
      "execution_count": 49,
      "outputs": []
    },
    {
      "cell_type": "code",
      "metadata": {
        "id": "d0aXnqk3sixq"
      },
      "source": [
        "#filter_df = df.drop([\"knownForTitles\", \"characters\",\"job\"],axis=1)\n"
      ],
      "execution_count": 50,
      "outputs": []
    },
    {
      "cell_type": "code",
      "metadata": {
        "id": "sJW6S1RmvnzS"
      },
      "source": [
        "#filter_df"
      ],
      "execution_count": 51,
      "outputs": []
    },
    {
      "cell_type": "markdown",
      "metadata": {
        "id": "U4hEYMvU8CI3"
      },
      "source": [
        "<br>\n",
        "<br>\n",
        "\n",
        "# Data Exploration"
      ]
    },
    {
      "cell_type": "code",
      "metadata": {
        "id": "sv13jKH5AhCd"
      },
      "source": [
        "from pyspark.sql.functions import collect_set\n"
      ],
      "execution_count": 52,
      "outputs": []
    },
    {
      "cell_type": "code",
      "metadata": {
        "colab": {
          "base_uri": "https://localhost:8080/"
        },
        "id": "HnSmpTrLA879",
        "outputId": "b485d647-26a5-45ff-fa8a-d4be3e2c0600"
      },
      "source": [
        "final_df.show(10)"
      ],
      "execution_count": 365,
      "outputs": [
        {
          "output_type": "stream",
          "text": [
            "+---------+---------+--------+--------+---+--------------------+-----------------+---------+---------+--------------------+--------------------+---------+--------------------+--------------------+-------+---------+-------+--------------+-----------------+-------------+--------+\n",
            "|   tconst|   nconst|ordering|category|job|          characters|      primaryName|birthYear|deathYear|   primaryProfession|      knownForTitles|titleType|        primaryTitle|       originalTitle|isAdult|startYear|endYear|runtimeMinutes|           genres|averageRating|numVotes|\n",
            "+---------+---------+--------+--------+---+--------------------+-----------------+---------+---------+--------------------+--------------------+---------+--------------------+--------------------+-------+---------+-------+--------------+-----------------+-------------+--------+\n",
            "|tt0004272|nm0776747|       3|   actor| \\N|      [\"Lt. Gibson\"]|     Harry Schumm|     1877|     1953|               actor|tt0211630,tt00042...|    movie|Lucille Love: The...|Lucille Love: The...|      0|     1914|     \\N|           300|           Action|          5.9|       8|\n",
            "|tt0004272|nm0383278|       8|   actor| \\N|                  \\N|     Wilbur Higby|     1867|     1934| actor,miscellaneous|tt0413784,tt00043...|    movie|Lucille Love: The...|Lucille Love: The...|      0|     1914|     \\N|           300|           Action|          5.9|       8|\n",
            "|tt0004272|nm0285643|       2|   actor| \\N|   [\"Hugo Loubeque\"]|     Francis Ford|     1881|     1953|actor,director,wr...|tt0190330,tt02142...|    movie|Lucille Love: The...|Lucille Love: The...|      0|     1914|     \\N|           300|           Action|          5.9|       8|\n",
            "|tt0004272|nm0445507|       6|   actor| \\N|    [\"Sumpter Love\"]|     Edgar Keller|     1867|     1932|actor,art_departm...|tt0891607,tt03291...|    movie|Lucille Love: The...|Lucille Love: The...|      0|     1914|     \\N|           300|           Action|          5.9|       8|\n",
            "|tt0004272|nm0492302|       9|   actor| \\N|    [\"Native-Chief\"]|       Burton Law|     1877|     1963|        actor,writer|tt0012852,tt00079...|    movie|Lucille Love: The...|Lucille Love: The...|      0|     1914|     \\N|           300|           Action|          5.9|       8|\n",
            "|tt0004272|nm0092665|       7|   actor| \\N|[\"Government Avia...|     Eddie Boland|     1885|     1935|               actor|tt0022077,tt00184...|    movie|Lucille Love: The...|Lucille Love: The...|      0|     1914|     \\N|           300|           Action|          5.9|       8|\n",
            "|tt0004272|nm0368875|      10|   actor| \\N|                  \\N|    Jean Hathaway|     1876|     1938|      actress,writer|tt0004272,tt00043...|    movie|Lucille Love: The...|Lucille Love: The...|      0|     1914|     \\N|           300|           Action|          5.9|       8|\n",
            "|tt0004272|nm0192062|       1|   actor| \\N|    [\"Lucille Love\"]|     Grace Cunard|     1893|     1967|actress,writer,di...|tt0317863,tt02349...|    movie|Lucille Love: The...|Lucille Love: The...|      0|     1914|     \\N|           300|           Action|          5.9|       8|\n",
            "|tt0004272|nm0793189|       4|   actor| \\N|[\"Thompson - the ...|   Ernest Shields|     1884|     1944|      actor,director|tt0007704,tt03117...|    movie|Lucille Love: The...|Lucille Love: The...|      0|     1914|     \\N|           300|           Action|          5.9|       8|\n",
            "|tt0004336|nm0478359|       1|   actor| \\N|[\"Florence Gray H...|Florence La Badie|     1888|     1917|             actress|tt0184033,tt04351...|    movie|The Million Dolla...|The Million Dolla...|      0|     1914|     \\N|            \\N|Adventure,Mystery|          5.5|      20|\n",
            "+---------+---------+--------+--------+---+--------------------+-----------------+---------+---------+--------------------+--------------------+---------+--------------------+--------------------+-------+---------+-------+--------------+-----------------+-------------+--------+\n",
            "only showing top 10 rows\n",
            "\n"
          ],
          "name": "stdout"
        }
      ]
    },
    {
      "cell_type": "code",
      "metadata": {
        "colab": {
          "base_uri": "https://localhost:8080/"
        },
        "id": "P4fWq3ICSqql",
        "outputId": "189c5ea6-d564-4854-e5de-e487821bd217"
      },
      "source": [
        "final_df.printSchema()"
      ],
      "execution_count": 54,
      "outputs": [
        {
          "output_type": "stream",
          "text": [
            "root\n",
            " |-- tconst: string (nullable = true)\n",
            " |-- nconst: string (nullable = true)\n",
            " |-- ordering: integer (nullable = true)\n",
            " |-- category: string (nullable = true)\n",
            " |-- job: string (nullable = true)\n",
            " |-- characters: string (nullable = true)\n",
            " |-- primaryName: string (nullable = true)\n",
            " |-- birthYear: string (nullable = true)\n",
            " |-- deathYear: string (nullable = true)\n",
            " |-- primaryProfession: string (nullable = true)\n",
            " |-- knownForTitles: string (nullable = true)\n",
            " |-- titleType: string (nullable = true)\n",
            " |-- primaryTitle: string (nullable = true)\n",
            " |-- originalTitle: string (nullable = true)\n",
            " |-- isAdult: integer (nullable = true)\n",
            " |-- startYear: string (nullable = true)\n",
            " |-- endYear: string (nullable = true)\n",
            " |-- runtimeMinutes: string (nullable = true)\n",
            " |-- genres: string (nullable = true)\n",
            "\n"
          ],
          "name": "stdout"
        }
      ]
    },
    {
      "cell_type": "markdown",
      "metadata": {
        "id": "i6eymxzu5AN3"
      },
      "source": [
        "<br>\n",
        "<br>\n",
        "\n",
        "### Movie ratings"
      ]
    },
    {
      "cell_type": "code",
      "metadata": {
        "colab": {
          "base_uri": "https://localhost:8080/"
        },
        "id": "2dbKSfXd5QqG",
        "outputId": "65f5a4dc-c51a-4110-9930-bb35d4dee61d"
      },
      "source": [
        "query = \"\"\"SELECT tconst, averageRating\n",
        "           from ratings\n",
        "           \"\"\"\n",
        "result = spark.sql(query)\n",
        "df_rating = result.toPandas()\n",
        "result.show()"
      ],
      "execution_count": 369,
      "outputs": [
        {
          "output_type": "stream",
          "text": [
            "+---------+-------------+\n",
            "|   tconst|averageRating|\n",
            "+---------+-------------+\n",
            "|tt0000001|          5.6|\n",
            "|tt0000002|          6.1|\n",
            "|tt0000003|          6.5|\n",
            "|tt0000004|          6.2|\n",
            "|tt0000005|          6.1|\n",
            "|tt0000006|          5.2|\n",
            "|tt0000007|          5.5|\n",
            "|tt0000008|          5.4|\n",
            "|tt0000009|          5.4|\n",
            "|tt0000010|          6.9|\n",
            "|tt0000011|          5.2|\n",
            "|tt0000012|          7.4|\n",
            "|tt0000013|          5.7|\n",
            "|tt0000014|          7.1|\n",
            "|tt0000015|          6.1|\n",
            "|tt0000016|          5.9|\n",
            "|tt0000017|          4.7|\n",
            "|tt0000018|          5.4|\n",
            "|tt0000019|          5.5|\n",
            "|tt0000020|          5.0|\n",
            "+---------+-------------+\n",
            "only showing top 20 rows\n",
            "\n"
          ],
          "name": "stdout"
        }
      ]
    },
    {
      "cell_type": "code",
      "metadata": {
        "colab": {
          "base_uri": "https://localhost:8080/"
        },
        "id": "QaYXNaWb6fdb",
        "outputId": "a3eea85f-bb82-48e6-c2fd-fa7bf34a14fe"
      },
      "source": [
        "df_rating.averageRating.max()"
      ],
      "execution_count": 377,
      "outputs": [
        {
          "output_type": "execute_result",
          "data": {
            "text/plain": [
              "10.0"
            ]
          },
          "metadata": {
            "tags": []
          },
          "execution_count": 377
        }
      ]
    },
    {
      "cell_type": "code",
      "metadata": {
        "colab": {
          "base_uri": "https://localhost:8080/"
        },
        "id": "SM8E71Zn63si",
        "outputId": "7cd8f996-91b7-43b3-b3f9-b13675a977c3"
      },
      "source": [
        "df_rating.averageRating.min()"
      ],
      "execution_count": 378,
      "outputs": [
        {
          "output_type": "execute_result",
          "data": {
            "text/plain": [
              "1.0"
            ]
          },
          "metadata": {
            "tags": []
          },
          "execution_count": 378
        }
      ]
    },
    {
      "cell_type": "code",
      "metadata": {
        "colab": {
          "base_uri": "https://localhost:8080/"
        },
        "id": "0j8cGYGN7KfH",
        "outputId": "8670e264-ea67-43ad-a9e4-1509543f0277"
      },
      "source": [
        "bins = [1,2,3,4,5,6,7,8,9,10]\n",
        "pd.cut(df_rating.averageRating, bins)"
      ],
      "execution_count": 380,
      "outputs": [
        {
          "output_type": "execute_result",
          "data": {
            "text/plain": [
              "0          (5, 6]\n",
              "1          (6, 7]\n",
              "2          (6, 7]\n",
              "3          (6, 7]\n",
              "4          (6, 7]\n",
              "           ...   \n",
              "993148     (5, 6]\n",
              "993149    (9, 10]\n",
              "993150     (5, 6]\n",
              "993151     (6, 7]\n",
              "993152     (6, 7]\n",
              "Name: averageRating, Length: 993153, dtype: category\n",
              "Categories (9, interval[int64]): [(1, 2] < (2, 3] < (3, 4] < (4, 5] ... (6, 7] < (7, 8] < (8, 9] <\n",
              "                                  (9, 10]]"
            ]
          },
          "metadata": {
            "tags": []
          },
          "execution_count": 380
        }
      ]
    },
    {
      "cell_type": "code",
      "metadata": {
        "id": "CyyRuWvU7ctt"
      },
      "source": [
        "rating_bins = df_rating.averageRating.groupby(pd.cut(df_rating.averageRating, bins)).count()"
      ],
      "execution_count": 388,
      "outputs": []
    },
    {
      "cell_type": "code",
      "metadata": {
        "colab": {
          "base_uri": "https://localhost:8080/"
        },
        "id": "6Vh9vR7u8ENS",
        "outputId": "6d81d635-86ea-4abf-e713-39b1f90b1980"
      },
      "source": [
        ""
      ],
      "execution_count": 395,
      "outputs": [
        {
          "output_type": "execute_result",
          "data": {
            "text/plain": [
              "array([  3749,  10385,  25627,  60274, 134747, 254254, 310434, 162875,\n",
              "        29858])"
            ]
          },
          "metadata": {
            "tags": []
          },
          "execution_count": 395
        }
      ]
    },
    {
      "cell_type": "code",
      "metadata": {
        "colab": {
          "base_uri": "https://localhost:8080/",
          "height": 675
        },
        "id": "taj7Ywv57zUa",
        "outputId": "ff15c334-1bef-49a9-e5da-4b31263e3d9a"
      },
      "source": [
        "sns.set(rc={'figure.figsize':(25,10)}, style=\"white\", font_scale=0.8)\n",
        "ax = sns.barplot(x = rating_bins.index, y = rating_bins.values)\n",
        "ax.set(title = \"Rating distribution\", xlabel = \"Rate bin\",  ylabel = \"Number of rating\")\n"
      ],
      "execution_count": 398,
      "outputs": [
        {
          "output_type": "execute_result",
          "data": {
            "text/plain": [
              "[Text(0, 0.5, 'Number of rating'),\n",
              " Text(0.5, 0, 'Rate bin'),\n",
              " Text(0.5, 1.0, 'Rating distribution')]"
            ]
          },
          "metadata": {
            "tags": []
          },
          "execution_count": 398
        },
        {
          "output_type": "display_data",
          "data": {
            "image/png": "[encoded data removed]",
            "text/plain": [
              "<Figure size 1800x720 with 1 Axes>"
            ]
          },
          "metadata": {
            "tags": []
          }
        }
      ]
    },
    {
      "cell_type": "code",
      "metadata": {
        "id": "FEnPj7q28i9w"
      },
      "source": [
        "bins2 = [1,4,7,10]\n",
        "rating_bins2 = df_rating.averageRating.groupby(pd.cut(df_rating.averageRating, bins2)).count()"
      ],
      "execution_count": 399,
      "outputs": []
    },
    {
      "cell_type": "code",
      "metadata": {
        "colab": {
          "base_uri": "https://localhost:8080/",
          "height": 675
        },
        "id": "FOZ1m6XE8ugH",
        "outputId": "32f1a4fd-787a-43e6-caaf-a571335647f8"
      },
      "source": [
        "sns.set(rc={'figure.figsize':(25,10)}, style=\"white\", font_scale=0.8)\n",
        "ax = sns.barplot(x = rating_bins2.index, y = rating_bins2.values)\n",
        "ax.set(title = \"Rating distribution\", xlabel = \"Rate bin\",  ylabel = \"Number of rating\")\n"
      ],
      "execution_count": 400,
      "outputs": [
        {
          "output_type": "execute_result",
          "data": {
            "text/plain": [
              "[Text(0, 0.5, 'Number of rating'),\n",
              " Text(0.5, 0, 'Rate bin'),\n",
              " Text(0.5, 1.0, 'Rating distribution')]"
            ]
          },
          "metadata": {
            "tags": []
          },
          "execution_count": 400
        },
        {
          "output_type": "display_data",
          "data": {
            "image/png": "[encoded data removed]",
            "text/plain": [
              "<Figure size 1800x720 with 1 Axes>"
            ]
          },
          "metadata": {
            "tags": []
          }
        }
      ]
    },
    {
      "cell_type": "markdown",
      "metadata": {
        "id": "HsddCgjbKojp"
      },
      "source": [
        "<br>\n",
        "<br>\n",
        "\n",
        "### Movie genres\n",
        "\n",
        "\n"
      ]
    },
    {
      "cell_type": "code",
      "metadata": {
        "id": "0DzAFfv1K3NT"
      },
      "source": [
        "genres = final_df.toPandas().genres"
      ],
      "execution_count": 64,
      "outputs": []
    },
    {
      "cell_type": "code",
      "metadata": {
        "id": "3Dm62kFeQ03E"
      },
      "source": [
        "from collections import defaultdict\n",
        "\n",
        "\n",
        "genre_dict = defaultdict(int)\n",
        "\n",
        "for s in genres:\n",
        "  if s != \"\\\\N\":\n",
        "    split = s.split(\",\")\n",
        "    if len(split) > 1: \n",
        "      for string in split:\n",
        "        genre_dict[string] += 1\n",
        "    else:\n",
        "      genre_dict[s]+= 1"
      ],
      "execution_count": 75,
      "outputs": []
    },
    {
      "cell_type": "code",
      "metadata": {
        "id": "W0zo7PCQP8CH"
      },
      "source": [
        "import pandas as pd \n",
        "genre_df = pd.DataFrame.from_dict(dict(genre_dict) ,orient='index')\n",
        "genre_df.columns = [\"num_movies\"]"
      ],
      "execution_count": 199,
      "outputs": []
    },
    {
      "cell_type": "code",
      "metadata": {
        "id": "46yC1dS4TTgO"
      },
      "source": [
        "genre_df.sort_values(by=['num_movies'],ascending=False, inplace=True)\n",
        "#genre_df[\"genre\"] = genre_df.index"
      ],
      "execution_count": 200,
      "outputs": []
    },
    {
      "cell_type": "code",
      "metadata": {
        "colab": {
          "base_uri": "https://localhost:8080/",
          "height": 928
        },
        "id": "WpH24SArZNqx",
        "outputId": "fce2e130-9676-4208-de9e-85fce1a21e32"
      },
      "source": [
        "genre_df"
      ],
      "execution_count": 215,
      "outputs": [
        {
          "output_type": "execute_result",
          "data": {
            "text/html": [
              "<div>\n",
              "<style scoped>\n",
              "    .dataframe tbody tr th:only-of-type {\n",
              "        vertical-align: middle;\n",
              "    }\n",
              "\n",
              "    .dataframe tbody tr th {\n",
              "        vertical-align: top;\n",
              "    }\n",
              "\n",
              "    .dataframe thead th {\n",
              "        text-align: right;\n",
              "    }\n",
              "</style>\n",
              "<table border=\"1\" class=\"dataframe\">\n",
              "  <thead>\n",
              "    <tr style=\"text-align: right;\">\n",
              "      <th></th>\n",
              "      <th>num_movies</th>\n",
              "      <th>perc</th>\n",
              "    </tr>\n",
              "  </thead>\n",
              "  <tbody>\n",
              "    <tr>\n",
              "      <th>Drama</th>\n",
              "      <td>742970</td>\n",
              "      <td>0.312923</td>\n",
              "    </tr>\n",
              "    <tr>\n",
              "      <th>Comedy</th>\n",
              "      <td>369762</td>\n",
              "      <td>0.155736</td>\n",
              "    </tr>\n",
              "    <tr>\n",
              "      <th>Action</th>\n",
              "      <td>179325</td>\n",
              "      <td>0.075528</td>\n",
              "    </tr>\n",
              "    <tr>\n",
              "      <th>Romance</th>\n",
              "      <td>167520</td>\n",
              "      <td>0.070556</td>\n",
              "    </tr>\n",
              "    <tr>\n",
              "      <th>Crime</th>\n",
              "      <td>122649</td>\n",
              "      <td>0.051657</td>\n",
              "    </tr>\n",
              "    <tr>\n",
              "      <th>Thriller</th>\n",
              "      <td>118859</td>\n",
              "      <td>0.050061</td>\n",
              "    </tr>\n",
              "    <tr>\n",
              "      <th>Horror</th>\n",
              "      <td>101455</td>\n",
              "      <td>0.042731</td>\n",
              "    </tr>\n",
              "    <tr>\n",
              "      <th>Adventure</th>\n",
              "      <td>88194</td>\n",
              "      <td>0.037145</td>\n",
              "    </tr>\n",
              "    <tr>\n",
              "      <th>Documentary</th>\n",
              "      <td>58033</td>\n",
              "      <td>0.024442</td>\n",
              "    </tr>\n",
              "    <tr>\n",
              "      <th>Mystery</th>\n",
              "      <td>51764</td>\n",
              "      <td>0.021802</td>\n",
              "    </tr>\n",
              "    <tr>\n",
              "      <th>Family</th>\n",
              "      <td>50718</td>\n",
              "      <td>0.021361</td>\n",
              "    </tr>\n",
              "    <tr>\n",
              "      <th>Fantasy</th>\n",
              "      <td>44056</td>\n",
              "      <td>0.018555</td>\n",
              "    </tr>\n",
              "    <tr>\n",
              "      <th>Adult</th>\n",
              "      <td>39607</td>\n",
              "      <td>0.016682</td>\n",
              "    </tr>\n",
              "    <tr>\n",
              "      <th>Musical</th>\n",
              "      <td>35924</td>\n",
              "      <td>0.015130</td>\n",
              "    </tr>\n",
              "    <tr>\n",
              "      <th>Sci-Fi</th>\n",
              "      <td>34452</td>\n",
              "      <td>0.014510</td>\n",
              "    </tr>\n",
              "    <tr>\n",
              "      <th>Western</th>\n",
              "      <td>29268</td>\n",
              "      <td>0.012327</td>\n",
              "    </tr>\n",
              "    <tr>\n",
              "      <th>War</th>\n",
              "      <td>29022</td>\n",
              "      <td>0.012223</td>\n",
              "    </tr>\n",
              "    <tr>\n",
              "      <th>History</th>\n",
              "      <td>28317</td>\n",
              "      <td>0.011927</td>\n",
              "    </tr>\n",
              "    <tr>\n",
              "      <th>Biography</th>\n",
              "      <td>25471</td>\n",
              "      <td>0.010728</td>\n",
              "    </tr>\n",
              "    <tr>\n",
              "      <th>Music</th>\n",
              "      <td>22300</td>\n",
              "      <td>0.009392</td>\n",
              "    </tr>\n",
              "    <tr>\n",
              "      <th>Animation</th>\n",
              "      <td>18459</td>\n",
              "      <td>0.007775</td>\n",
              "    </tr>\n",
              "    <tr>\n",
              "      <th>Sport</th>\n",
              "      <td>11415</td>\n",
              "      <td>0.004808</td>\n",
              "    </tr>\n",
              "    <tr>\n",
              "      <th>Film-Noir</th>\n",
              "      <td>3200</td>\n",
              "      <td>0.001348</td>\n",
              "    </tr>\n",
              "    <tr>\n",
              "      <th>News</th>\n",
              "      <td>1159</td>\n",
              "      <td>0.000488</td>\n",
              "    </tr>\n",
              "    <tr>\n",
              "      <th>Reality-TV</th>\n",
              "      <td>257</td>\n",
              "      <td>0.000108</td>\n",
              "    </tr>\n",
              "    <tr>\n",
              "      <th>Talk-Show</th>\n",
              "      <td>66</td>\n",
              "      <td>0.000028</td>\n",
              "    </tr>\n",
              "    <tr>\n",
              "      <th>Short</th>\n",
              "      <td>43</td>\n",
              "      <td>0.000018</td>\n",
              "    </tr>\n",
              "    <tr>\n",
              "      <th>Game-Show</th>\n",
              "      <td>22</td>\n",
              "      <td>0.000009</td>\n",
              "    </tr>\n",
              "  </tbody>\n",
              "</table>\n",
              "</div>"
            ],
            "text/plain": [
              "             num_movies      perc\n",
              "Drama            742970  0.312923\n",
              "Comedy           369762  0.155736\n",
              "Action           179325  0.075528\n",
              "Romance          167520  0.070556\n",
              "Crime            122649  0.051657\n",
              "Thriller         118859  0.050061\n",
              "Horror           101455  0.042731\n",
              "Adventure         88194  0.037145\n",
              "Documentary       58033  0.024442\n",
              "Mystery           51764  0.021802\n",
              "Family            50718  0.021361\n",
              "Fantasy           44056  0.018555\n",
              "Adult             39607  0.016682\n",
              "Musical           35924  0.015130\n",
              "Sci-Fi            34452  0.014510\n",
              "Western           29268  0.012327\n",
              "War               29022  0.012223\n",
              "History           28317  0.011927\n",
              "Biography         25471  0.010728\n",
              "Music             22300  0.009392\n",
              "Animation         18459  0.007775\n",
              "Sport             11415  0.004808\n",
              "Film-Noir          3200  0.001348\n",
              "News               1159  0.000488\n",
              "Reality-TV          257  0.000108\n",
              "Talk-Show            66  0.000028\n",
              "Short                43  0.000018\n",
              "Game-Show            22  0.000009"
            ]
          },
          "metadata": {
            "tags": []
          },
          "execution_count": 215
        }
      ]
    },
    {
      "cell_type": "code",
      "metadata": {
        "id": "3MWeQ9mohu-B"
      },
      "source": [
        "genre_df[\"perc\"]= genre_df.num_movies/genre_df.num_movies.sum()*100"
      ],
      "execution_count": 234,
      "outputs": []
    },
    {
      "cell_type": "code",
      "metadata": {
        "colab": {
          "base_uri": "https://localhost:8080/",
          "height": 928
        },
        "id": "7OJM2bkFiS0g",
        "outputId": "aa953e5c-747d-4e6c-d44b-f1739fde03a2"
      },
      "source": [
        "genre_df"
      ],
      "execution_count": 235,
      "outputs": [
        {
          "output_type": "execute_result",
          "data": {
            "text/html": [
              "<div>\n",
              "<style scoped>\n",
              "    .dataframe tbody tr th:only-of-type {\n",
              "        vertical-align: middle;\n",
              "    }\n",
              "\n",
              "    .dataframe tbody tr th {\n",
              "        vertical-align: top;\n",
              "    }\n",
              "\n",
              "    .dataframe thead th {\n",
              "        text-align: right;\n",
              "    }\n",
              "</style>\n",
              "<table border=\"1\" class=\"dataframe\">\n",
              "  <thead>\n",
              "    <tr style=\"text-align: right;\">\n",
              "      <th></th>\n",
              "      <th>num_movies</th>\n",
              "      <th>perc</th>\n",
              "    </tr>\n",
              "  </thead>\n",
              "  <tbody>\n",
              "    <tr>\n",
              "      <th>Drama</th>\n",
              "      <td>742970</td>\n",
              "      <td>31.292342</td>\n",
              "    </tr>\n",
              "    <tr>\n",
              "      <th>Comedy</th>\n",
              "      <td>369762</td>\n",
              "      <td>15.573602</td>\n",
              "    </tr>\n",
              "    <tr>\n",
              "      <th>Action</th>\n",
              "      <td>179325</td>\n",
              "      <td>7.552794</td>\n",
              "    </tr>\n",
              "    <tr>\n",
              "      <th>Romance</th>\n",
              "      <td>167520</td>\n",
              "      <td>7.055592</td>\n",
              "    </tr>\n",
              "    <tr>\n",
              "      <th>Crime</th>\n",
              "      <td>122649</td>\n",
              "      <td>5.165719</td>\n",
              "    </tr>\n",
              "    <tr>\n",
              "      <th>Thriller</th>\n",
              "      <td>118859</td>\n",
              "      <td>5.006092</td>\n",
              "    </tr>\n",
              "    <tr>\n",
              "      <th>Horror</th>\n",
              "      <td>101455</td>\n",
              "      <td>4.273072</td>\n",
              "    </tr>\n",
              "    <tr>\n",
              "      <th>Adventure</th>\n",
              "      <td>88194</td>\n",
              "      <td>3.714547</td>\n",
              "    </tr>\n",
              "    <tr>\n",
              "      <th>Documentary</th>\n",
              "      <td>58033</td>\n",
              "      <td>2.444229</td>\n",
              "    </tr>\n",
              "    <tr>\n",
              "      <th>Mystery</th>\n",
              "      <td>51764</td>\n",
              "      <td>2.180191</td>\n",
              "    </tr>\n",
              "    <tr>\n",
              "      <th>Family</th>\n",
              "      <td>50718</td>\n",
              "      <td>2.136136</td>\n",
              "    </tr>\n",
              "    <tr>\n",
              "      <th>Fantasy</th>\n",
              "      <td>44056</td>\n",
              "      <td>1.855547</td>\n",
              "    </tr>\n",
              "    <tr>\n",
              "      <th>Adult</th>\n",
              "      <td>39607</td>\n",
              "      <td>1.668164</td>\n",
              "    </tr>\n",
              "    <tr>\n",
              "      <th>Musical</th>\n",
              "      <td>35924</td>\n",
              "      <td>1.513044</td>\n",
              "    </tr>\n",
              "    <tr>\n",
              "      <th>Sci-Fi</th>\n",
              "      <td>34452</td>\n",
              "      <td>1.451046</td>\n",
              "    </tr>\n",
              "    <tr>\n",
              "      <th>Western</th>\n",
              "      <td>29268</td>\n",
              "      <td>1.232707</td>\n",
              "    </tr>\n",
              "    <tr>\n",
              "      <th>War</th>\n",
              "      <td>29022</td>\n",
              "      <td>1.222346</td>\n",
              "    </tr>\n",
              "    <tr>\n",
              "      <th>History</th>\n",
              "      <td>28317</td>\n",
              "      <td>1.192653</td>\n",
              "    </tr>\n",
              "    <tr>\n",
              "      <th>Biography</th>\n",
              "      <td>25471</td>\n",
              "      <td>1.072785</td>\n",
              "    </tr>\n",
              "    <tr>\n",
              "      <th>Music</th>\n",
              "      <td>22300</td>\n",
              "      <td>0.939229</td>\n",
              "    </tr>\n",
              "    <tr>\n",
              "      <th>Animation</th>\n",
              "      <td>18459</td>\n",
              "      <td>0.777454</td>\n",
              "    </tr>\n",
              "    <tr>\n",
              "      <th>Sport</th>\n",
              "      <td>11415</td>\n",
              "      <td>0.480776</td>\n",
              "    </tr>\n",
              "    <tr>\n",
              "      <th>Film-Noir</th>\n",
              "      <td>3200</td>\n",
              "      <td>0.134777</td>\n",
              "    </tr>\n",
              "    <tr>\n",
              "      <th>News</th>\n",
              "      <td>1159</td>\n",
              "      <td>0.048815</td>\n",
              "    </tr>\n",
              "    <tr>\n",
              "      <th>Reality-TV</th>\n",
              "      <td>257</td>\n",
              "      <td>0.010824</td>\n",
              "    </tr>\n",
              "    <tr>\n",
              "      <th>Talk-Show</th>\n",
              "      <td>66</td>\n",
              "      <td>0.002780</td>\n",
              "    </tr>\n",
              "    <tr>\n",
              "      <th>Short</th>\n",
              "      <td>43</td>\n",
              "      <td>0.001811</td>\n",
              "    </tr>\n",
              "    <tr>\n",
              "      <th>Game-Show</th>\n",
              "      <td>22</td>\n",
              "      <td>0.000927</td>\n",
              "    </tr>\n",
              "  </tbody>\n",
              "</table>\n",
              "</div>"
            ],
            "text/plain": [
              "             num_movies       perc\n",
              "Drama            742970  31.292342\n",
              "Comedy           369762  15.573602\n",
              "Action           179325   7.552794\n",
              "Romance          167520   7.055592\n",
              "Crime            122649   5.165719\n",
              "Thriller         118859   5.006092\n",
              "Horror           101455   4.273072\n",
              "Adventure         88194   3.714547\n",
              "Documentary       58033   2.444229\n",
              "Mystery           51764   2.180191\n",
              "Family            50718   2.136136\n",
              "Fantasy           44056   1.855547\n",
              "Adult             39607   1.668164\n",
              "Musical           35924   1.513044\n",
              "Sci-Fi            34452   1.451046\n",
              "Western           29268   1.232707\n",
              "War               29022   1.222346\n",
              "History           28317   1.192653\n",
              "Biography         25471   1.072785\n",
              "Music             22300   0.939229\n",
              "Animation         18459   0.777454\n",
              "Sport             11415   0.480776\n",
              "Film-Noir          3200   0.134777\n",
              "News               1159   0.048815\n",
              "Reality-TV          257   0.010824\n",
              "Talk-Show            66   0.002780\n",
              "Short                43   0.001811\n",
              "Game-Show            22   0.000927"
            ]
          },
          "metadata": {
            "tags": []
          },
          "execution_count": 235
        }
      ]
    },
    {
      "cell_type": "code",
      "metadata": {
        "colab": {
          "base_uri": "https://localhost:8080/"
        },
        "id": "ASakrsE5jiGt",
        "outputId": "756e25ea-b4e5-4415-b36e-77285346b56d"
      },
      "source": [
        ""
      ],
      "execution_count": 251,
      "outputs": [
        {
          "output_type": "execute_result",
          "data": {
            "text/plain": [
              "num_movies    16162.00000\n",
              "perc              0.68071\n",
              "dtype: float64"
            ]
          },
          "metadata": {
            "tags": []
          },
          "execution_count": 251
        }
      ]
    },
    {
      "cell_type": "code",
      "metadata": {
        "colab": {
          "base_uri": "https://localhost:8080/",
          "height": 675
        },
        "id": "I_fgygknTGdp",
        "outputId": "87884e8c-eacb-45e1-9478-28b90d43123e"
      },
      "source": [
        "sns.set(rc={'figure.figsize':(25,10)}, style=\"white\", font_scale=0.8)\n",
        "ax = sns.barplot(x = genre_df.index, y = \"num_movies\", data = genre_df)\n",
        "ax.set(title = \"Genre distribution\", xlabel = \"Genre\",  ylabel = \"Number of films\")\n"
      ],
      "execution_count": 154,
      "outputs": [
        {
          "output_type": "execute_result",
          "data": {
            "text/plain": [
              "[Text(0, 0.5, 'Number of films'),\n",
              " Text(0.5, 0, 'Genre'),\n",
              " Text(0.5, 1.0, 'Genre distribution')]"
            ]
          },
          "metadata": {
            "tags": []
          },
          "execution_count": 154
        },
        {
          "output_type": "display_data",
          "data": {
            "image/png": "[encoded data removed]",
            "text/plain": [
              "<Figure size 1800x720 with 1 Axes>"
            ]
          },
          "metadata": {
            "tags": []
          }
        }
      ]
    },
    {
      "cell_type": "code",
      "metadata": {
        "colab": {
          "base_uri": "https://localhost:8080/",
          "height": 608
        },
        "id": "UI3j5vM5Yf6x",
        "outputId": "4b03b001-2227-4429-c025-f7fc4b3cb178"
      },
      "source": [
        "genre_df[\"perc\"].plot.pie(autopct=\"%.1f%%\", y = \"perc\").legend(loc=\"lower left\", bbox_to_anchor=(1.2, 0), ncol= 1)"
      ],
      "execution_count": 252,
      "outputs": [
        {
          "output_type": "execute_result",
          "data": {
            "text/plain": [
              "<matplotlib.legend.Legend at 0x7fab3a4d9810>"
            ]
          },
          "metadata": {
            "tags": []
          },
          "execution_count": 252
        },
        {
          "output_type": "display_data",
          "data": {
            "image/png": "[encoded data removed]",
            "text/plain": [
              "<Figure size 1800x720 with 1 Axes>"
            ]
          },
          "metadata": {
            "tags": []
          }
        }
      ]
    },
    {
      "cell_type": "code",
      "metadata": {
        "id": "sRyiZFaAmLqB"
      },
      "source": [
        "perc_genre_dict = {}\n",
        "for k in genre_dict:\n",
        "  perc_genre_dict[k] = genre_dict[k]/genre_df.num_movies.sum()*100\n"
      ],
      "execution_count": 301,
      "outputs": []
    },
    {
      "cell_type": "code",
      "metadata": {
        "colab": {
          "base_uri": "https://localhost:8080/"
        },
        "id": "ukdSP64IrV3m",
        "outputId": "77cbfb28-5ea8-4a5f-fd6f-2af15356e3ca"
      },
      "source": [
        "import operator\n",
        "from collections import OrderedDict\n",
        "\n",
        "sorted_tuples = sorted(perc_genre_dict.items(), key=operator.itemgetter(1),reverse= True)\n",
        "print(sorted_tuples)  # [(1, 1), (3, 4), (2, 9)]\n",
        "\n",
        "sorted_dict = OrderedDict()\n",
        "for k, v in sorted_tuples:\n",
        "    sorted_dict[k] = v\n",
        "\n",
        "print(sorted_dict)"
      ],
      "execution_count": 302,
      "outputs": [
        {
          "output_type": "stream",
          "text": [
            "[('Drama', 31.29234165878009), ('Comedy', 15.573601674944943), ('Action', 7.552793743974506), ('Romance', 7.055591847152429), ('Crime', 5.16571922433977), ('Thriller', 5.0060923553049825), ('Horror', 4.273072294966869), ('Adventure', 3.7145467249746975), ('Documentary', 2.444228519972522), ('Mystery', 2.1801913585004677), ('Family', 2.136136027363162), ('Fantasy', 1.8555465282840702), ('Adult', 1.6681639582746315), ('Musical', 1.5130437053313268), ('Sci-Fi', 1.4510461456428814), ('Western', 1.2327069136966171), ('War', 1.222345908476945), ('History', 1.1926527837620304), ('Biography', 1.0727852193100498), ('Music', 0.9392293349540304), ('Animation', 0.7774544526419932), ('Sport', 0.4807759129372312), ('Film-Noir', 0.13477730367053353), ('News', 0.04881465467317136), ('Reality-TV', 0.010824302201039722), ('Talk-Show', 0.0027797818882047535), ('Short', 0.001811070018072794), ('Game-Show', 0.0009265939627349179)]\n",
            "OrderedDict([('Drama', 31.29234165878009), ('Comedy', 15.573601674944943), ('Action', 7.552793743974506), ('Romance', 7.055591847152429), ('Crime', 5.16571922433977), ('Thriller', 5.0060923553049825), ('Horror', 4.273072294966869), ('Adventure', 3.7145467249746975), ('Documentary', 2.444228519972522), ('Mystery', 2.1801913585004677), ('Family', 2.136136027363162), ('Fantasy', 1.8555465282840702), ('Adult', 1.6681639582746315), ('Musical', 1.5130437053313268), ('Sci-Fi', 1.4510461456428814), ('Western', 1.2327069136966171), ('War', 1.222345908476945), ('History', 1.1926527837620304), ('Biography', 1.0727852193100498), ('Music', 0.9392293349540304), ('Animation', 0.7774544526419932), ('Sport', 0.4807759129372312), ('Film-Noir', 0.13477730367053353), ('News', 0.04881465467317136), ('Reality-TV', 0.010824302201039722), ('Talk-Show', 0.0027797818882047535), ('Short', 0.001811070018072794), ('Game-Show', 0.0009265939627349179)])\n"
          ],
          "name": "stdout"
        }
      ]
    },
    {
      "cell_type": "code",
      "metadata": {
        "colab": {
          "base_uri": "https://localhost:8080/",
          "height": 610
        },
        "id": "U8K76YerlESP",
        "outputId": "ad1f1bad-71e1-4069-d50d-6142e19fff52"
      },
      "source": [
        "plt.style.use('ggplot')\n",
        "\n",
        "\n",
        "dic = sorted_dict\n",
        "\n",
        "import itertools\n",
        "newdic={}\n",
        "for key, group in itertools.groupby(dic, lambda k: 'Others' if (dic[k]<1) else k):\n",
        "     newdic[key] = sum([dic[k] for k in list(group)])   \n",
        "\n",
        "labels = newdic.keys()\n",
        "sizes = newdic.values()\n",
        "\n",
        "fig, ax = plt.subplots()\n",
        "\n",
        "ax.pie(sizes, labels=labels, autopct='%1.1f%%', startangle=0)\n",
        "ax.axis('equal')\n",
        "plt.tight_layout()\n",
        "\n",
        "plt.show()\n",
        "\n"
      ],
      "execution_count": 363,
      "outputs": [
        {
          "output_type": "display_data",
          "data": {
            "image/png": "[encoded data removed]",
            "text/plain": [
              "<Figure size 1800x720 with 1 Axes>"
            ]
          },
          "metadata": {
            "tags": []
          }
        }
      ]
    },
    {
      "cell_type": "code",
      "metadata": {
        "id": "LSyn3bFqmaCd"
      },
      "source": [
        ""
      ],
      "execution_count": 358,
      "outputs": []
    },
    {
      "cell_type": "markdown",
      "metadata": {
        "id": "6R9WVzQOWM4C"
      },
      "source": [
        "<br>\n",
        "<br>\n",
        "\n",
        "### Movies with more actors"
      ]
    },
    {
      "cell_type": "code",
      "metadata": {
        "colab": {
          "base_uri": "https://localhost:8080/"
        },
        "id": "5IaiUdDIWcz8",
        "outputId": "a16d88d8-e9d1-4b0e-e93d-935e7a900277"
      },
      "source": [
        "query = \"\"\"SELECT primaryTitle, count(primaryTitle) AS num_actors\n",
        "           from mergedataset\n",
        "           group by primaryTitle\n",
        "           ORDER BY num_actors DESC\n",
        "           LIMIT 10\n",
        "           \"\"\"\n",
        "res1 = spark.sql(query)\n",
        "ds = res1.toPandas()\n",
        "res1.show()"
      ],
      "execution_count": 55,
      "outputs": [
        {
          "output_type": "stream",
          "text": [
            "+------------+----------+\n",
            "|primaryTitle|num_actors|\n",
            "+------------+----------+\n",
            "|      Hamlet|       145|\n",
            "|     Macbeth|       140|\n",
            "|   Honeymoon|       139|\n",
            "|      Broken|       131|\n",
            "|       Alone|       128|\n",
            "|        Love|       127|\n",
            "|      Desire|       125|\n",
            "|      Mother|       123|\n",
            "|  Homecoming|       117|\n",
            "|     Revenge|       115|\n",
            "+------------+----------+\n",
            "\n"
          ],
          "name": "stdout"
        }
      ]
    },
    {
      "cell_type": "code",
      "metadata": {
        "colab": {
          "base_uri": "https://localhost:8080/",
          "height": 686
        },
        "id": "Vd7aKEadM_82",
        "outputId": "2bc150d3-d7d7-4a78-de35-c8c367c57042"
      },
      "source": [
        "sns.set(rc={'figure.figsize':(25,10)}, style=\"white\", font_scale=1.2)\n",
        "ax = sns.barplot(x = \"primaryTitle\", y = \"num_actors\", data = ds)\n",
        "ax.set(title = \"Movies with more actors\", xlabel = \"Movie title\",  ylabel = \"Number of actors\")\n"
      ],
      "execution_count": 157,
      "outputs": [
        {
          "output_type": "execute_result",
          "data": {
            "text/plain": [
              "[Text(0, 0.5, 'Number of actors'),\n",
              " Text(0.5, 0, 'Movie title'),\n",
              " Text(0.5, 1.0, 'Movies with more actors')]"
            ]
          },
          "metadata": {
            "tags": []
          },
          "execution_count": 157
        },
        {
          "output_type": "display_data",
          "data": {
            "image/png": "[encoded data removed]",
            "text/plain": [
              "<Figure size 1800x720 with 1 Axes>"
            ]
          },
          "metadata": {
            "tags": []
          }
        }
      ]
    },
    {
      "cell_type": "code",
      "metadata": {
        "colab": {
          "base_uri": "https://localhost:8080/"
        },
        "id": "STXewDVLxLiT",
        "outputId": "0fe25dc1-8b92-4af8-c184-aa4e5bb63cb2"
      },
      "source": [
        "°query = \"\"\"SELECT primaryTitle, primaryName, nconst\n",
        "           from mergedataset\n",
        "           where primaryTitle = 'Hamlet'\n",
        "           \"\"\"\n",
        "spark.sql(query).show()"
      ],
      "execution_count": 57,
      "outputs": [
        {
          "output_type": "stream",
          "text": [
            "+------------+--------------------+---------+\n",
            "|primaryTitle|         primaryName|   nconst|\n",
            "+------------+--------------------+---------+\n",
            "|      Hamlet|      Lara Gilchrist|nm1968493|\n",
            "|      Hamlet|      Gillian Barber|nm0053390|\n",
            "|      Hamlet|        Bruce Ramsay|nm0708873|\n",
            "|      Hamlet|     Peter Wingfield|nm0935057|\n",
            "|      Hamlet|        Helen Mirren|nm0000545|\n",
            "|      Hamlet|       Quentin Crisp|nm0187998|\n",
            "|      Hamlet|       Barry Stanton|nm0822719|\n",
            "|      Hamlet|      Vladek Sheybal|nm0792996|\n",
            "|      Hamlet|        Tim Campbell|nm8002435|\n",
            "|      Hamlet|      Adrienne Gould|nm0332306|\n",
            "|      Hamlet|          Tom Rooney|nm6203587|\n",
            "|      Hamlet|       Seana McKenna|nm0571426|\n",
            "|      Hamlet|      Thomas Olajide|nm4731835|\n",
            "|      Hamlet|       Jonathan Goad|nm1770824|\n",
            "|      Hamlet|    Mikhail Nazvanov|nm0623442|\n",
            "|      Hamlet|Innokentiy Smoktu...|nm0810550|\n",
            "|      Hamlet|        Elza Radzina|nm0705952|\n",
            "|      Hamlet|      Yuriy Tolubeev|nm0866264|\n",
            "|      Hamlet|    Vasiko Bakhtadze|nm2243644|\n",
            "|      Hamlet|    Dimitri Alavidze|nm7425078|\n",
            "+------------+--------------------+---------+\n",
            "only showing top 20 rows\n",
            "\n"
          ],
          "name": "stdout"
        }
      ]
    },
    {
      "cell_type": "markdown",
      "metadata": {
        "id": "HEPeULrSWdPr"
      },
      "source": [
        "<br>\n",
        "<br>\n",
        "\n",
        "### Actors play in more movies"
      ]
    },
    {
      "cell_type": "code",
      "metadata": {
        "id": "8YL5YQVKWMgF",
        "colab": {
          "base_uri": "https://localhost:8080/"
        },
        "outputId": "df74d067-1a83-41a0-b33a-eb30084a9d34"
      },
      "source": [
        "query = \"\"\"select primaryName, count(primaryName) as num_movies\n",
        "           from mergedataset\n",
        "           group by primaryName\n",
        "            ORDER BY num_movies DESC\n",
        "            LIMIT 10\n",
        "           \"\"\"\n",
        "res = spark.sql(query)\n",
        "ds2 = res.toPandas()\n",
        "res.show()"
      ],
      "execution_count": 58,
      "outputs": [
        {
          "output_type": "stream",
          "text": [
            "+----------------+----------+\n",
            "|     primaryName|num_movies|\n",
            "+----------------+----------+\n",
            "|    Brahmanandam|       798|\n",
            "|     Adoor Bhasi|       585|\n",
            "|Matsunosuke Onoe|       565|\n",
            "|    Eddie Garcia|       507|\n",
            "|      Prem Nazir|       438|\n",
            "|    Sung-il Shin|       411|\n",
            "|    Paquito Diaz|       391|\n",
            "|Masayoshi Nogami|       387|\n",
            "|       Mammootty|       381|\n",
            "|  Aachi Manorama|       355|\n",
            "+----------------+----------+\n",
            "\n"
          ],
          "name": "stdout"
        }
      ]
    },
    {
      "cell_type": "code",
      "metadata": {
        "colab": {
          "base_uri": "https://localhost:8080/",
          "height": 632
        },
        "id": "Q5VjZm7YN0Ma",
        "outputId": "c3a5463c-3daf-4042-a6b5-e26ad1f3ee80"
      },
      "source": [
        "sns.set(rc={'figure.figsize':(25,10)}, style=\"white\", font_scale=1.2)\n",
        "ax = sns.barplot(x = \"primaryName\", y = \"num_movies\", data = ds2)\n",
        "ax.set(title = \"Actors play in more movies\", xlabel = \"Actor name\", ylabel = \"Number of movies\");"
      ],
      "execution_count": 158,
      "outputs": [
        {
          "output_type": "display_data",
          "data": {
            "image/png": "[encoded data removed]",
            "text/plain": [
              "<Figure size 1800x720 with 1 Axes>"
            ]
          },
          "metadata": {
            "tags": []
          }
        }
      ]
    },
    {
      "cell_type": "markdown",
      "metadata": {
        "id": "12Jud70gWCyV"
      },
      "source": [
        "<br>\n",
        "<br>\n",
        "\n",
        "### Number of Actors still alive and dead"
      ]
    },
    {
      "cell_type": "code",
      "metadata": {
        "id": "Rcz0mru0WtjG"
      },
      "source": [
        "x = final_df.select(\"deathYear\").toPandas().head(10)"
      ],
      "execution_count": 60,
      "outputs": []
    },
    {
      "cell_type": "code",
      "metadata": {
        "colab": {
          "base_uri": "https://localhost:8080/"
        },
        "id": "dyB5i7AoXYiW",
        "outputId": "b47d8b71-a381-45fb-d19e-e71d701a9e65"
      },
      "source": [
        "for i in x:\n",
        "  print(x[i])"
      ],
      "execution_count": null,
      "outputs": [
        {
          "output_type": "stream",
          "text": [
            "0    1945\n",
            "1    1932\n",
            "2    1916\n",
            "3    1960\n",
            "4    1936\n",
            "5      \\N\n",
            "6      \\N\n",
            "7      \\N\n",
            "8    1930\n",
            "9    1953\n",
            "Name: deathYear, dtype: object\n"
          ],
          "name": "stdout"
        }
      ]
    },
    {
      "cell_type": "code",
      "metadata": {
        "colab": {
          "base_uri": "https://localhost:8080/",
          "height": 37
        },
        "id": "3ewhBGn-V2Mp",
        "outputId": "80c56496-9378-47c6-dae2-961d8d3846f4"
      },
      "source": [
        "x.deathYear[5]"
      ],
      "execution_count": null,
      "outputs": [
        {
          "output_type": "execute_result",
          "data": {
            "application/vnd.google.colaboratory.intrinsic+json": {
              "type": "string"
            },
            "text/plain": [
              "'\\\\N'"
            ]
          },
          "metadata": {
            "tags": []
          },
          "execution_count": 56
        }
      ]
    },
    {
      "cell_type": "code",
      "metadata": {
        "colab": {
          "base_uri": "https://localhost:8080/"
        },
        "id": "K4jXH6gQQoYS",
        "outputId": "f7dffc5a-0e0b-4eac-e298-63fb0fc2e80d"
      },
      "source": [
        "query = \"\"\"select deathYear\n",
        "           from mergedataset\n",
        "           where  deathYear = '\\\\N'\n",
        "           \"\"\"\n",
        "spark.sql(query).show()"
      ],
      "execution_count": null,
      "outputs": [
        {
          "output_type": "stream",
          "text": [
            "+---------+\n",
            "|deathYear|\n",
            "+---------+\n",
            "+---------+\n",
            "\n"
          ],
          "name": "stdout"
        }
      ]
    },
    {
      "cell_type": "code",
      "metadata": {
        "id": "te2yRSvDQTjQ"
      },
      "source": [
        ""
      ],
      "execution_count": null,
      "outputs": []
    },
    {
      "cell_type": "markdown",
      "metadata": {
        "id": "Q-o8bVBVTnZ0"
      },
      "source": [
        "<br>\n",
        "<br>\n",
        "\n",
        "# Market Basket Analysis"
      ]
    },
    {
      "cell_type": "code",
      "metadata": {
        "colab": {
          "base_uri": "https://localhost:8080/"
        },
        "id": "nbIbPF99pMzp",
        "outputId": "72bc8d7d-861e-443d-d853-add540f3223e"
      },
      "source": [
        "final_df.select(\"tconst\",\"primaryName\").show(200)"
      ],
      "execution_count": null,
      "outputs": [
        {
          "output_type": "stream",
          "text": [
            "+---------+--------------------+\n",
            "|   tconst|         primaryName|\n",
            "+---------+--------------------+\n",
            "|tt0002591|       Harry Liedtke|\n",
            "|tt0002591|Martha Angerstein...|\n",
            "|tt0003689| George W. Middleton|\n",
            "|tt0003689|      Beulah Poynter|\n",
            "|tt0003689|         John Bowers|\n",
            "|tt0003689|      Mrs. E. Walton|\n",
            "|tt0003689|        Octave Luzon|\n",
            "|tt0003689|       Wilbur Hudson|\n",
            "|tt0003689|   William S. Rising|\n",
            "|tt0004272|        Harry Schumm|\n",
            "|tt0004272|        Wilbur Higby|\n",
            "|tt0004272|        Francis Ford|\n",
            "|tt0004272|        Edgar Keller|\n",
            "|tt0004272|          Burton Law|\n",
            "|tt0004272|        Eddie Boland|\n",
            "|tt0004272|       Jean Hathaway|\n",
            "|tt0004272|        Grace Cunard|\n",
            "|tt0004272|      Ernest Shields|\n",
            "|tt0004336|   Florence La Badie|\n",
            "|tt0004336|       Sidney Bracey|\n",
            "|tt0004336|    Frank Farrington|\n",
            "|tt0004336|     Marguerite Snow|\n",
            "|tt0004336|         James Cruze|\n",
            "|tt0005209|   DeWolf Hopper Sr.|\n",
            "|tt0005209|          Julia Faye|\n",
            "|tt0005209|         Fay Tincher|\n",
            "|tt0005209|        Max Davidson|\n",
            "|tt0005209|        George Walsh|\n",
            "|tt0005209|       Rhea Mitchell|\n",
            "|tt0005605|   Ellis F. Glickman|\n",
            "|tt0005605|         Lucy Payton|\n",
            "|tt0005605|       W.H. Harriman|\n",
            "|tt0005605|        Arthur Bauer|\n",
            "|tt0005605|       Minnie Berlin|\n",
            "|tt0005605|          Nolan Gane|\n",
            "|tt0005793|    Wingold Lawrence|\n",
            "|tt0005793|        Flora Morris|\n",
            "|tt0006204|   Constance Bennett|\n",
            "|tt0006204|        Joan Bennett|\n",
            "|tt0006204|     Blanche Bennett|\n",
            "|tt0006204|     George Periolat|\n",
            "|tt0006204|     Barbara Bennett|\n",
            "|tt0006204|     Richard Bennett|\n",
            "|tt0006204|         Rhoda Lewis|\n",
            "|tt0006204|   Adrienne Morrison|\n",
            "|tt0006207|        Henry Hallam|\n",
            "|tt0006207| Francesca Cappelano|\n",
            "|tt0006207|           Hal Forde|\n",
            "|tt0006207|  Marguerite Courtot|\n",
            "|tt0006207|       T. Justin Dow|\n",
            "|tt0006207|      Helen Lindroth|\n",
            "|tt0006441|       Martin Kinney|\n",
            "|tt0006441|     James A. Marcus|\n",
            "|tt0006441|        George Walsh|\n",
            "|tt0006441|          Doris Pawn|\n",
            "|tt0006489|   P. Dempsey Tabler|\n",
            "|tt0006489|      Dorothy Dalton|\n",
            "|tt0006489|     William S. Hart|\n",
            "|tt0006489|         Enid Markey|\n",
            "|tt0006587|    Adele Farrington|\n",
            "|tt0006587|       Emory Johnson|\n",
            "|tt0006587|    William Canfield|\n",
            "|tt0006587|   Dorothy Davenport|\n",
            "|tt0006587|       Miriam Shelby|\n",
            "|tt0006587|      Richard Morris|\n",
            "|tt0006819|       Kurt Wolowsky|\n",
            "|tt0006819|         Paula Ronay|\n",
            "|tt0006819|   Erich Kaiser-Titz|\n",
            "|tt0006819|         Max Ruhbeck|\n",
            "|tt0007011|       Howard Davies|\n",
            "|tt0007011|         Mary Mersch|\n",
            "|tt0007011|       Edna Goodrich|\n",
            "|tt0007011|     Forrest Stanley|\n",
            "|tt0007011|         John Burton|\n",
            "|tt0007565|       Milton Rosmer|\n",
            "|tt0007565|     Laurence Leyton|\n",
            "|tt0007565|       Ronald Squire|\n",
            "|tt0007565|        Flora Morris|\n",
            "|tt0007565|         Hilda Moore|\n",
            "|tt0007565|    Arthur M. Cullin|\n",
            "|tt0007694|        Jack Drumier|\n",
            "|tt0007694|         Madge Evans|\n",
            "|tt0007694|        Inez Shannon|\n",
            "|tt0007694|        Kitty Gordon|\n",
            "|tt0008160|      Joseph Manning|\n",
            "|tt0008160|         Lee Shumway|\n",
            "|tt0008160|        Jewel Carmen|\n",
            "|tt0008160|         Fred Milton|\n",
            "|tt0008160|     Genevieve Blinn|\n",
            "|tt0008160|  Murdock MacQuarrie|\n",
            "|tt0008160|      G. Raymond Nye|\n",
            "|tt0008160|       Nancy Caswell|\n",
            "|tt0008407|         Vera Sisson|\n",
            "|tt0008407|        Lester Cuneo|\n",
            "|tt0008407|      Virginia Rappe|\n",
            "|tt0008407|     Harold Lockwood|\n",
            "|tt0008407|          G. Sprotte|\n",
            "|tt0008407|    William Clifford|\n",
            "|tt0008522|          Viola Dana|\n",
            "|tt0008522|           Tom Blake|\n",
            "|tt0008522|        James Harris|\n",
            "|tt0008661|       Nikolai Radin|\n",
            "|tt0008661|  Vjacheslav Svoboda|\n",
            "|tt0008661|   Zoya Barantsevich|\n",
            "|tt0008661|        Tasya Borman|\n",
            "|tt0008785|         Alice Brady|\n",
            "|tt0008785|     Clarence Harvey|\n",
            "|tt0008785|     Edward Langford|\n",
            "|tt0008785|     Justine Cutting|\n",
            "|tt0008785|      Edward Kimball|\n",
            "|tt0008785|       Arthur Ashley|\n",
            "|tt0008893|    Thomas F. Fallon|\n",
            "|tt0008893|         Helen Tracy|\n",
            "|tt0008893|        June Caprice|\n",
            "|tt0008893|         Jack McLean|\n",
            "|tt0008893|     Bernard Randall|\n",
            "|tt0008893|       Blanche Hines|\n",
            "|tt0009455| Maude Turner Gordon|\n",
            "|tt0009455|       Crauford Kent|\n",
            "|tt0009455|         Alice Brady|\n",
            "|tt0009455|      Hazel Washburn|\n",
            "|tt0009455|         Ormi Hawley|\n",
            "|tt0009455|         Henry Leone|\n",
            "|tt0009962|          Amy Veness|\n",
            "|tt0009962|       Frank Currier|\n",
            "|tt0009962|      Charles Bryant|\n",
            "|tt0009962|       Alla Nazimova|\n",
            "|tt0010060|    Richard Cummings|\n",
            "|tt0010060|       Edward Jobson|\n",
            "|tt0010060|          Mae Murray|\n",
            "|tt0010060|       Bert Woodruff|\n",
            "|tt0010060|   Rudolph Valentino|\n",
            "|tt0010060|Harry L. Rattenberry|\n",
            "|tt0010179|         Belle Bruce|\n",
            "|tt0010179|      Valentine Mott|\n",
            "|tt0010179|    Emily Chichester|\n",
            "|tt0010179|  Francis X. Bushman|\n",
            "|tt0010179|        Charles Fang|\n",
            "|tt0010179|       Samuel Framer|\n",
            "|tt0010179|       Beverly Bayne|\n",
            "|tt0010179|        Helen Dunbar|\n",
            "|tt0010670|        Edna Britton|\n",
            "|tt0010670|           Ruth Budd|\n",
            "|tt0010670|       Ralph Kellard|\n",
            "|tt0010670|   John Webb Dillion|\n",
            "|tt0010898|         Jean Armour|\n",
            "|tt0010898|       Percy Marmont|\n",
            "|tt0010898|            Lucy Fox|\n",
            "|tt0010898|   Robert Middlemass|\n",
            "|tt0010898|        Joseph Burke|\n",
            "|tt0010898|         Alice Joyce|\n",
            "|tt0011011|    Ica von Lenkeffy|\n",
            "|tt0011011|          Paul Lukas|\n",
            "|tt0011031|        Bella Polini|\n",
            "|tt0011031|      Anna von Palen|\n",
            "|tt0011031|        John Gottowt|\n",
            "|tt0011031|Henri Peters-Arnolds|\n",
            "|tt0011031|     Paul Biensfeldt|\n",
            "|tt0011031|         Sascha Gura|\n",
            "|tt0011477|   Wallace MacDonald|\n",
            "|tt0011477|        Edith Storey|\n",
            "|tt0011477|          Irene Hunt|\n",
            "|tt0011477|       Sam De Grasse|\n",
            "|tt0011477|         Frankie Lee|\n",
            "|tt0011477|  William Courtleigh|\n",
            "|tt0011477|      Josef Swickard|\n",
            "|tt0011567|    Charles Meredith|\n",
            "|tt0011567|        Joseph Burke|\n",
            "|tt0011567|  Elizabeth Garrison|\n",
            "|tt0011567|  Constance Talmadge|\n",
            "|tt0011852|      Norris Johnson|\n",
            "|tt0011852|           Doris May|\n",
            "|tt0011852|     William Buckley|\n",
            "|tt0011852|     Douglas MacLean|\n",
            "|tt0011852|        Walter Hiers|\n",
            "|tt0011863|    Thomas Jefferson|\n",
            "|tt0011863|       Edith Roberts|\n",
            "|tt0011863|         Arnold Gray|\n",
            "|tt0011863|       Hattie Peters|\n",
            "|tt0011863|Alfred Hollingsworth|\n",
            "|tt0012065| Joaquim de Oliveira|\n",
            "|tt0012065|Francisco de Sous...|\n",
            "|tt0012065| Lina de Albuquerque|\n",
            "|tt0012065|       Joaquim Costa|\n",
            "|tt0012065|     Alvaro Baptista|\n",
            "|tt0012065|       M. d'Oliveira|\n",
            "|tt0012139|Eunice Murdock Moore|\n",
            "|tt0012139|       Shirley Mason|\n",
            "|tt0012139|       Charles Spere|\n",
            "|tt0012139|          Eva Gordon|\n",
            "|tt0012139|     Frances Hancock|\n",
            "|tt0012139|       Herbert Heyes|\n",
            "|tt0012433|         June LaVere|\n",
            "|tt0012433|        Eileen Percy|\n",
            "|tt0012433|       William Scott|\n",
            "|tt0012433|      Charles Meakin|\n",
            "|tt0012433|      Hattie Buskirk|\n",
            "|tt0012553|         Jack Perrin|\n",
            "|tt0012553|       Gordon Mullen|\n",
            "|tt0012553|        J.P. Lockney|\n",
            "+---------+--------------------+\n",
            "only showing top 200 rows\n",
            "\n"
          ],
          "name": "stdout"
        }
      ]
    },
    {
      "cell_type": "code",
      "metadata": {
        "id": "lX55SPJKDHV6"
      },
      "source": [
        "df = final_df.select(\"tconst\",\"primaryName\")"
      ],
      "execution_count": null,
      "outputs": []
    },
    {
      "cell_type": "code",
      "metadata": {
        "colab": {
          "base_uri": "https://localhost:8080/"
        },
        "id": "1WkZ8F8-DBLA",
        "outputId": "a477ebc8-7f3a-4082-e26c-94578f614cc5"
      },
      "source": [
        "df.show(10)"
      ],
      "execution_count": null,
      "outputs": [
        {
          "output_type": "stream",
          "text": [
            "+---------+--------------------+\n",
            "|   tconst|         primaryName|\n",
            "+---------+--------------------+\n",
            "|tt0002591|       Harry Liedtke|\n",
            "|tt0002591|Martha Angerstein...|\n",
            "|tt0003689| George W. Middleton|\n",
            "|tt0003689|      Beulah Poynter|\n",
            "|tt0003689|         John Bowers|\n",
            "|tt0003689|      Mrs. E. Walton|\n",
            "|tt0003689|        Octave Luzon|\n",
            "|tt0003689|       Wilbur Hudson|\n",
            "|tt0003689|   William S. Rising|\n",
            "|tt0004272|        Harry Schumm|\n",
            "+---------+--------------------+\n",
            "only showing top 10 rows\n",
            "\n"
          ],
          "name": "stdout"
        }
      ]
    },
    {
      "cell_type": "code",
      "metadata": {
        "id": "RMYQ30lH9nzh"
      },
      "source": [
        "baskets = df.groupBy('tconst').agg(collect_set('primaryName').alias('items'))"
      ],
      "execution_count": null,
      "outputs": []
    },
    {
      "cell_type": "code",
      "metadata": {
        "colab": {
          "base_uri": "https://localhost:8080/"
        },
        "id": "uHN2ZoDlGHQO",
        "outputId": "2e58258f-15a0-4743-ff10-6e03adf7a6ac"
      },
      "source": [
        "baskets.show(200)"
      ],
      "execution_count": null,
      "outputs": [
        {
          "output_type": "stream",
          "text": [
            "+---------+--------------------+\n",
            "|   tconst|               items|\n",
            "+---------+--------------------+\n",
            "|tt0002591|[Harry Liedtke, M...|\n",
            "|tt0003689|[William S. Risin...|\n",
            "|tt0004272|[Wilbur Higby, Fr...|\n",
            "|tt0004336|[Marguerite Snow,...|\n",
            "|tt0005209|[DeWolf Hopper Sr...|\n",
            "|tt0005605|[Arthur Bauer, Mi...|\n",
            "|tt0005793|[Flora Morris, Wi...|\n",
            "|tt0006204|[George Periolat,...|\n",
            "|tt0006207|[Hal Forde, Helen...|\n",
            "|tt0006441|[Martin Kinney, D...|\n",
            "|tt0006489|[Dorothy Dalton, ...|\n",
            "|tt0006587|[Adele Farrington...|\n",
            "|tt0006819|[Max Ruhbeck, Eri...|\n",
            "|tt0007011|[Howard Davies, J...|\n",
            "|tt0007565|[Ronald Squire, L...|\n",
            "|tt0007694|[Madge Evans, Ine...|\n",
            "|tt0008160|[Murdock MacQuarr...|\n",
            "|tt0008407|[Harold Lockwood,...|\n",
            "|tt0008522|[James Harris, Vi...|\n",
            "|tt0008661|[Tasya Borman, Ni...|\n",
            "|tt0008785|[Arthur Ashley, J...|\n",
            "|tt0008893|[Blanche Hines, H...|\n",
            "|tt0009455|[Ormi Hawley, Hen...|\n",
            "|tt0009962|[Charles Bryant, ...|\n",
            "|tt0010060|[Bert Woodruff, R...|\n",
            "|tt0010179|[Helen Dunbar, Be...|\n",
            "|tt0010670|[Ralph Kellard, R...|\n",
            "|tt0010898|[Joseph Burke, Lu...|\n",
            "|tt0011011|[Ica von Lenkeffy...|\n",
            "|tt0011031|[Paul Biensfeldt,...|\n",
            "|tt0011477|[Irene Hunt, Will...|\n",
            "|tt0011567|[Joseph Burke, Co...|\n",
            "|tt0011852|[William Buckley,...|\n",
            "|tt0011863|[Edith Roberts, H...|\n",
            "|tt0012065|[Lina de Albuquer...|\n",
            "|tt0012139|[Eva Gordon, Shir...|\n",
            "|tt0012433|[Charles Meakin, ...|\n",
            "|tt0012553|[J.P. Lockney, Ma...|\n",
            "|tt0012698|[Polly Moran, Eth...|\n",
            "|tt0012810|[Robert Elliott, ...|\n",
            "|tt0013224|[Roy Atwell, Jame...|\n",
            "|tt0013568|[Dhirendranath Ga...|\n",
            "|tt0013588|[Henri Baudin, Pa...|\n",
            "|tt0013980|[Cleo Desmond, Ev...|\n",
            "|tt0014221|[Wilbur Higby, Ma...|\n",
            "|tt0014617|[Emil Rameau, Han...|\n",
            "|tt0014870|      [Gene Cameron]|\n",
            "|tt0015140|[Raymond Hatton, ...|\n",
            "|tt0015438|[David Powell, Lo...|\n",
            "|tt0015720|[Eric Mayne, Reed...|\n",
            "|tt0015756|[Mayme Kelso, Cla...|\n",
            "|tt0015952|[Lola Todd, Joe B...|\n",
            "|tt0016361|[Malcolm McGregor...|\n",
            "|tt0016395|[Ronald Colman, J...|\n",
            "|tt0016413|[Vivien Oakland, ...|\n",
            "|tt0016679|[Shannon Day, Pat...|\n",
            "|tt0016814|[Elga Brink, Walt...|\n",
            "|tt0017471|[Doris Hill, Geor...|\n",
            "|tt0017866|[Reginald Denny, ...|\n",
            "|tt0018526|[Fred Kohler, Cli...|\n",
            "|tt0018537|[Kate Fabian, Pet...|\n",
            "|tt0019239|[Edmund Lowe, Hun...|\n",
            "|tt0019388|[Josephine Dunn, ...|\n",
            "|tt0019473|[Margaret Livings...|\n",
            "|tt0019550|[Jack Holt, Nancy...|\n",
            "|tt0020007|[Betty Bird, Carl...|\n",
            "|tt0020474|[Anny Ondra, Euge...|\n",
            "|tt0020497|[Edmund Lowe, Nat...|\n",
            "|tt0020953|[Lowell Sherman, ...|\n",
            "|tt0021001|[Betty Compson, R...|\n",
            "|tt0021035|[Ivan Yudin, Bili...|\n",
            "|tt0021127|[Kurt Gerron, Wal...|\n",
            "|tt0021156|[Ullrich Haupt, E...|\n",
            "|tt0021728|[Raymond Hatton, ...|\n",
            "|tt0021869|[Marjorie Beebe, ...|\n",
            "|tt0022207|[Winifred Shotter...|\n",
            "|tt0022905|[Barbara Stanwyck...|\n",
            "|tt0023787|[Maurice Chevalie...|\n",
            "|tt0023949|[Phyllis Barry, R...|\n",
            "|tt0024095|[Stuart Erwin, Al...|\n",
            "|tt0024348|[Herbert Rawlinso...|\n",
            "|tt0025037|[Evelyn Venable, ...|\n",
            "|tt0025594|[Charles Starrett...|\n",
            "|tt0026449|[Chôko Iida, Kinu...|\n",
            "|tt0026943|[Michael Shepley,...|\n",
            "|tt0027156|[Ketti Gallian, J...|\n",
            "|tt0027292|[Dina Perbellini,...|\n",
            "|tt0027462|[Jean Rogers, Tom...|\n",
            "|tt0027610|[Al Bridge, Marga...|\n",
            "|tt0027877|[James Ellison, I...|\n",
            "|tt0028165|[Silvio Hernández...|\n",
            "|tt0028533|[Pablo Hidalgo, A...|\n",
            "|tt0028761|[Jack Haley, Mary...|\n",
            "|tt0028810|[Romney Brent, El...|\n",
            "|tt0028861|[Rosina Anselmi, ...|\n",
            "|tt0028890|[June Martel, Joh...|\n",
            "|tt0029464|[Robert Allen, Ha...|\n",
            "|tt0029486|[Mary Russell, Ra...|\n",
            "|tt0029517|[Van Heflin, Mari...|\n",
            "|tt0029814|[Rafael Falcón, L...|\n",
            "|tt0030027|[Jack Holt, Dougl...|\n",
            "|tt0030731|[Ronald Reagan, D...|\n",
            "|tt0030769|[Jules Berry, Edd...|\n",
            "|tt0030883|[Lola Lane, Antho...|\n",
            "|tt0030912|[Harald Heide Ste...|\n",
            "|tt0031039|[William Frawley,...|\n",
            "|tt0031323|[Marius Goring, J...|\n",
            "|tt0031324|[Robert Paige, Ri...|\n",
            "|tt0031472|[Gustav Diessl, H...|\n",
            "|tt0031511|[George Ernest, J...|\n",
            "|tt0031988|[Walter Pidgeon, ...|\n",
            "|tt0032016|[Edward Rigby, Ed...|\n",
            "|tt0032224|[Carlo Romano, La...|\n",
            "|tt0032326|[Lionel Atwill, V...|\n",
            "|tt0032553|[Billy Gilbert, C...|\n",
            "|tt0032556|[Mary Beth Hughes...|\n",
            "|tt0032599|[Rosalind Russell...|\n",
            "|tt0032741|[Betty Compson, M...|\n",
            "|tt0032968|[Julia Kent, Elle...|\n",
            "|tt0033006|[Lili Berky, Kálm...|\n",
            "|tt0033024|[Claude Rains, Ro...|\n",
            "|tt0033118|[Apollon Yachnits...|\n",
            "|tt0033573|[Margaret Lindsay...|\n",
            "|tt0034114|[Andy Devine, Leo...|\n",
            "|tt0034269|[George Bancroft,...|\n",
            "|tt0034290|[Lee 'Lasses' Whi...|\n",
            "|tt0034484|[Jorge Negrete, C...|\n",
            "|tt0034529|[Luis Prendes, An...|\n",
            "|tt0034604|[Bob Steele, Weld...|\n",
            "|tt0035339|[Eve Arden, Bert ...|\n",
            "|tt0035759|[António Silva, M...|\n",
            "|tt0035769|[Cedric Hardwicke...|\n",
            "|tt0035788|[Bob Steele, Ken ...|\n",
            "|tt0036077|[Chandraprabha, V...|\n",
            "|tt0036246|[Zahoor Shah, Mad...|\n",
            "|tt0036277|[Olivia de Havill...|\n",
            "|tt0036323|[Bruce Bennett, H...|\n",
            "|tt0036624|[Thure Bahne, Arv...|\n",
            "|tt0036771|[Oskar Sima, Jose...|\n",
            "|tt0036806|[Lars Hanson, Gun...|\n",
            "|tt0036808|[John Litel, Eric...|\n",
            "|tt0037459|[Regis Toomey, Ba...|\n",
            "|tt0037832|[Lowell Gilmore, ...|\n",
            "|tt0037961|[Frank Jaquet, Pe...|\n",
            "|tt0038416|[Mary Astor, Robe...|\n",
            "|tt0038694|[Jacqueline deWit...|\n",
            "|tt0038811|[Emma Tsesarskaya...|\n",
            "|tt0038958|[Ann Codee, Miche...|\n",
            "|tt0039134|[Benny Bartlett, ...|\n",
            "|tt0039173|[Bob Steele, Eddy...|\n",
            "|tt0039236|[William Marshall...|\n",
            "|tt0039305|[Humphrey Bogart,...|\n",
            "|tt0039431|[Patricia Marshal...|\n",
            "|tt0039584|[Margaret Lindsay...|\n",
            "|tt0039896|[Susan Hayward, R...|\n",
            "|tt0039955|[Josita Hernán, J...|\n",
            "|tt0040213|[Harold Landon, F...|\n",
            "|tt0040482|[Susan Shaw, Maur...|\n",
            "|tt0040483|[Carin Cederström...|\n",
            "|tt0040695|[Jane Wyatt, Raym...|\n",
            "|tt0041080|[Gustavo Re, Ánge...|\n",
            "|tt0041676|[Ági Mészáros, Mi...|\n",
            "|tt0041782|[Reed Howes, Kenn...|\n",
            "|tt0041850|[Ida Wüst, Albert...|\n",
            "|tt0042303|[Yvonne Sanson, C...|\n",
            "|tt0042537|[Mercedes Albert,...|\n",
            "|tt0042679|[Richard Murdoch,...|\n",
            "|tt0042899|[Scott Forbes, Er...|\n",
            "|tt0042917|[Eddy Waller, All...|\n",
            "|tt0042950|[Conrado San Mart...|\n",
            "|tt0043297|[Riccardo Billi, ...|\n",
            "|tt0043729|[Lee Roberts, Jim...|\n",
            "|tt0043783|[Honor Blackman, ...|\n",
            "|tt0043858|[Manuel Requena, ...|\n",
            "|tt0043973|[Lowell Gilmore, ...|\n",
            "|tt0044008|[Mervyn Johns, Ka...|\n",
            "|tt0044083|[Sally Forrest, J...|\n",
            "|tt0044431|[Mitzi Green, Sco...|\n",
            "|tt0044768|[Nicolas Vogel, H...|\n",
            "|tt0044770|[May Britt, Barba...|\n",
            "|tt0045015|[John Bentley, Pa...|\n",
            "|tt0045031|[Lilli Palmer, Ha...|\n",
            "|tt0045118|[Line Renaud, Geo...|\n",
            "|tt0045285|[Dieter Borsche, ...|\n",
            "|tt0045352|[Wilson Wood, Ali...|\n",
            "|tt0045651|[Enzo Fiermonte, ...|\n",
            "|tt0045736|[Andrew Ray, Ted ...|\n",
            "|tt0046277|    [Sayed Suleiman]|\n",
            "|tt0046949|[Michael Wilding,...|\n",
            "|tt0047072|[Alan Ladd, Joan ...|\n",
            "|tt0047313|[Paolo Stoppa, So...|\n",
            "|tt0047525|[Ted de Corsia, W...|\n",
            "|tt0047972|[Ayako Wakao, Hid...|\n",
            "|tt0048006|[Robert Alda, Gin...|\n",
            "|tt0048104|[Michel Auclair, ...|\n",
            "|tt0048723|[Larry Parks, Con...|\n",
            "|tt0049309|[Liselotte Pulver...|\n",
            "|tt0049448|[Silvana Pampanin...|\n",
            "|tt0050254|[Folco Lulli, Fra...|\n",
            "|tt0050651|[Ángel Ter, José ...|\n",
            "+---------+--------------------+\n",
            "only showing top 200 rows\n",
            "\n"
          ],
          "name": "stdout"
        }
      ]
    },
    {
      "cell_type": "code",
      "metadata": {
        "colab": {
          "base_uri": "https://localhost:8080/",
          "height": 1000
        },
        "id": "PGkiZRZCXiGG",
        "outputId": "831ad9cb-5138-4a20-91ec-6d941fd14e10"
      },
      "source": [
        "baskets.toPandas().head(50)"
      ],
      "execution_count": null,
      "outputs": [
        {
          "output_type": "execute_result",
          "data": {
            "text/html": [
              "<div>\n",
              "<style scoped>\n",
              "    .dataframe tbody tr th:only-of-type {\n",
              "        vertical-align: middle;\n",
              "    }\n",
              "\n",
              "    .dataframe tbody tr th {\n",
              "        vertical-align: top;\n",
              "    }\n",
              "\n",
              "    .dataframe thead th {\n",
              "        text-align: right;\n",
              "    }\n",
              "</style>\n",
              "<table border=\"1\" class=\"dataframe\">\n",
              "  <thead>\n",
              "    <tr style=\"text-align: right;\">\n",
              "      <th></th>\n",
              "      <th>tconst</th>\n",
              "      <th>items</th>\n",
              "    </tr>\n",
              "  </thead>\n",
              "  <tbody>\n",
              "    <tr>\n",
              "      <th>0</th>\n",
              "      <td>tt0002591</td>\n",
              "      <td>[Harry Liedtke, Martha Angerstein-Licho]</td>\n",
              "    </tr>\n",
              "    <tr>\n",
              "      <th>1</th>\n",
              "      <td>tt0003689</td>\n",
              "      <td>[William S. Rising, Beulah Poynter, Octave Luz...</td>\n",
              "    </tr>\n",
              "    <tr>\n",
              "      <th>2</th>\n",
              "      <td>tt0004272</td>\n",
              "      <td>[Wilbur Higby, Francis Ford, Harry Schumm, Ern...</td>\n",
              "    </tr>\n",
              "    <tr>\n",
              "      <th>3</th>\n",
              "      <td>tt0004336</td>\n",
              "      <td>[Marguerite Snow, Frank Farrington, Florence L...</td>\n",
              "    </tr>\n",
              "    <tr>\n",
              "      <th>4</th>\n",
              "      <td>tt0005209</td>\n",
              "      <td>[DeWolf Hopper Sr., Julia Faye, Fay Tincher, R...</td>\n",
              "    </tr>\n",
              "    <tr>\n",
              "      <th>5</th>\n",
              "      <td>tt0005605</td>\n",
              "      <td>[Arthur Bauer, Minnie Berlin, Nolan Gane, Elli...</td>\n",
              "    </tr>\n",
              "    <tr>\n",
              "      <th>6</th>\n",
              "      <td>tt0005793</td>\n",
              "      <td>[Flora Morris, Wingold Lawrence]</td>\n",
              "    </tr>\n",
              "    <tr>\n",
              "      <th>7</th>\n",
              "      <td>tt0006204</td>\n",
              "      <td>[George Periolat, Richard Bennett, Rhoda Lewis...</td>\n",
              "    </tr>\n",
              "    <tr>\n",
              "      <th>8</th>\n",
              "      <td>tt0006207</td>\n",
              "      <td>[Hal Forde, Helen Lindroth, Francesca Cappelan...</td>\n",
              "    </tr>\n",
              "    <tr>\n",
              "      <th>9</th>\n",
              "      <td>tt0006441</td>\n",
              "      <td>[Martin Kinney, Doris Pawn, George Walsh, Jame...</td>\n",
              "    </tr>\n",
              "    <tr>\n",
              "      <th>10</th>\n",
              "      <td>tt0006489</td>\n",
              "      <td>[Dorothy Dalton, William S. Hart, Enid Markey,...</td>\n",
              "    </tr>\n",
              "    <tr>\n",
              "      <th>11</th>\n",
              "      <td>tt0006587</td>\n",
              "      <td>[Adele Farrington, Emory Johnson, William Canf...</td>\n",
              "    </tr>\n",
              "    <tr>\n",
              "      <th>12</th>\n",
              "      <td>tt0006819</td>\n",
              "      <td>[Max Ruhbeck, Erich Kaiser-Titz, Paula Ronay, ...</td>\n",
              "    </tr>\n",
              "    <tr>\n",
              "      <th>13</th>\n",
              "      <td>tt0007011</td>\n",
              "      <td>[Howard Davies, John Burton, Edna Goodrich, Ma...</td>\n",
              "    </tr>\n",
              "    <tr>\n",
              "      <th>14</th>\n",
              "      <td>tt0007565</td>\n",
              "      <td>[Ronald Squire, Laurence Leyton, Flora Morris,...</td>\n",
              "    </tr>\n",
              "    <tr>\n",
              "      <th>15</th>\n",
              "      <td>tt0007694</td>\n",
              "      <td>[Madge Evans, Inez Shannon, Jack Drumier, Kitt...</td>\n",
              "    </tr>\n",
              "    <tr>\n",
              "      <th>16</th>\n",
              "      <td>tt0008160</td>\n",
              "      <td>[Murdock MacQuarrie, Fred Milton, Jewel Carmen...</td>\n",
              "    </tr>\n",
              "    <tr>\n",
              "      <th>17</th>\n",
              "      <td>tt0008407</td>\n",
              "      <td>[Harold Lockwood, Virginia Rappe, Vera Sisson,...</td>\n",
              "    </tr>\n",
              "    <tr>\n",
              "      <th>18</th>\n",
              "      <td>tt0008522</td>\n",
              "      <td>[James Harris, Viola Dana, Tom Blake]</td>\n",
              "    </tr>\n",
              "    <tr>\n",
              "      <th>19</th>\n",
              "      <td>tt0008661</td>\n",
              "      <td>[Tasya Borman, Nikolai Radin, Vjacheslav Svobo...</td>\n",
              "    </tr>\n",
              "    <tr>\n",
              "      <th>20</th>\n",
              "      <td>tt0008785</td>\n",
              "      <td>[Arthur Ashley, Justine Cutting, Clarence Harv...</td>\n",
              "    </tr>\n",
              "    <tr>\n",
              "      <th>21</th>\n",
              "      <td>tt0008893</td>\n",
              "      <td>[Blanche Hines, Helen Tracy, June Caprice, Jac...</td>\n",
              "    </tr>\n",
              "    <tr>\n",
              "      <th>22</th>\n",
              "      <td>tt0009455</td>\n",
              "      <td>[Ormi Hawley, Henry Leone, Crauford Kent, Haze...</td>\n",
              "    </tr>\n",
              "    <tr>\n",
              "      <th>23</th>\n",
              "      <td>tt0009962</td>\n",
              "      <td>[Charles Bryant, Amy Veness, Frank Currier, Al...</td>\n",
              "    </tr>\n",
              "    <tr>\n",
              "      <th>24</th>\n",
              "      <td>tt0010060</td>\n",
              "      <td>[Bert Woodruff, Rudolph Valentino, Richard Cum...</td>\n",
              "    </tr>\n",
              "    <tr>\n",
              "      <th>25</th>\n",
              "      <td>tt0010179</td>\n",
              "      <td>[Helen Dunbar, Beverly Bayne, Valentine Mott, ...</td>\n",
              "    </tr>\n",
              "    <tr>\n",
              "      <th>26</th>\n",
              "      <td>tt0010670</td>\n",
              "      <td>[Ralph Kellard, Ruth Budd, John Webb Dillion, ...</td>\n",
              "    </tr>\n",
              "    <tr>\n",
              "      <th>27</th>\n",
              "      <td>tt0010898</td>\n",
              "      <td>[Joseph Burke, Lucy Fox, Percy Marmont, Jean A...</td>\n",
              "    </tr>\n",
              "    <tr>\n",
              "      <th>28</th>\n",
              "      <td>tt0011011</td>\n",
              "      <td>[Ica von Lenkeffy, Paul Lukas]</td>\n",
              "    </tr>\n",
              "    <tr>\n",
              "      <th>29</th>\n",
              "      <td>tt0011031</td>\n",
              "      <td>[Paul Biensfeldt, Henri Peters-Arnolds, Sascha...</td>\n",
              "    </tr>\n",
              "    <tr>\n",
              "      <th>30</th>\n",
              "      <td>tt0011477</td>\n",
              "      <td>[Irene Hunt, William Courtleigh, Frankie Lee, ...</td>\n",
              "    </tr>\n",
              "    <tr>\n",
              "      <th>31</th>\n",
              "      <td>tt0011567</td>\n",
              "      <td>[Joseph Burke, Constance Talmadge, Elizabeth G...</td>\n",
              "    </tr>\n",
              "    <tr>\n",
              "      <th>32</th>\n",
              "      <td>tt0011852</td>\n",
              "      <td>[William Buckley, Walter Hiers, Doris May, Nor...</td>\n",
              "    </tr>\n",
              "    <tr>\n",
              "      <th>33</th>\n",
              "      <td>tt0011863</td>\n",
              "      <td>[Edith Roberts, Hattie Peters, Thomas Jefferso...</td>\n",
              "    </tr>\n",
              "    <tr>\n",
              "      <th>34</th>\n",
              "      <td>tt0012065</td>\n",
              "      <td>[Lina de Albuquerque, Joaquim de Oliveira, Joa...</td>\n",
              "    </tr>\n",
              "    <tr>\n",
              "      <th>35</th>\n",
              "      <td>tt0012139</td>\n",
              "      <td>[Eva Gordon, Shirley Mason, Frances Hancock, C...</td>\n",
              "    </tr>\n",
              "    <tr>\n",
              "      <th>36</th>\n",
              "      <td>tt0012433</td>\n",
              "      <td>[Charles Meakin, Hattie Buskirk, Eileen Percy,...</td>\n",
              "    </tr>\n",
              "    <tr>\n",
              "      <th>37</th>\n",
              "      <td>tt0012553</td>\n",
              "      <td>[J.P. Lockney, Marion Feducha, Jack Perrin, Da...</td>\n",
              "    </tr>\n",
              "    <tr>\n",
              "      <th>38</th>\n",
              "      <td>tt0012698</td>\n",
              "      <td>[Polly Moran, Ethel Teare, Chester Conklin, Bi...</td>\n",
              "    </tr>\n",
              "    <tr>\n",
              "      <th>39</th>\n",
              "      <td>tt0012810</td>\n",
              "      <td>[Robert Elliott, Grace Beaumont, Alan Edwards,...</td>\n",
              "    </tr>\n",
              "    <tr>\n",
              "      <th>40</th>\n",
              "      <td>tt0013224</td>\n",
              "      <td>[Roy Atwell, James Neill, Jack Mathis, Noah Be...</td>\n",
              "    </tr>\n",
              "    <tr>\n",
              "      <th>41</th>\n",
              "      <td>tt0013568</td>\n",
              "      <td>[Dhirendranath Ganguly, Manmatha Pal, Lina Val...</td>\n",
              "    </tr>\n",
              "    <tr>\n",
              "      <th>42</th>\n",
              "      <td>tt0013588</td>\n",
              "      <td>[Henri Baudin, Paul Jorge, Varvara Yanova, Vla...</td>\n",
              "    </tr>\n",
              "    <tr>\n",
              "      <th>43</th>\n",
              "      <td>tt0013980</td>\n",
              "      <td>[Cleo Desmond, Evelyn Preer, Mabel Young, Corn...</td>\n",
              "    </tr>\n",
              "    <tr>\n",
              "      <th>44</th>\n",
              "      <td>tt0014221</td>\n",
              "      <td>[Wilbur Higby, Mabel Trunnelle, Mabel Forrest,...</td>\n",
              "    </tr>\n",
              "    <tr>\n",
              "      <th>45</th>\n",
              "      <td>tt0014617</td>\n",
              "      <td>[Emil Rameau, Hans Marr, Fritz Kampers, Erich ...</td>\n",
              "    </tr>\n",
              "    <tr>\n",
              "      <th>46</th>\n",
              "      <td>tt0014870</td>\n",
              "      <td>[Gene Cameron]</td>\n",
              "    </tr>\n",
              "    <tr>\n",
              "      <th>47</th>\n",
              "      <td>tt0015140</td>\n",
              "      <td>[Raymond Hatton, Dorothy Mackaill, Charles Mur...</td>\n",
              "    </tr>\n",
              "    <tr>\n",
              "      <th>48</th>\n",
              "      <td>tt0015438</td>\n",
              "      <td>[David Powell, Lowell Sherman, Mary Thurman, H...</td>\n",
              "    </tr>\n",
              "    <tr>\n",
              "      <th>49</th>\n",
              "      <td>tt0015720</td>\n",
              "      <td>[Eric Mayne, Reed Howes, Wilfred Lucas, Jack M...</td>\n",
              "    </tr>\n",
              "  </tbody>\n",
              "</table>\n",
              "</div>"
            ],
            "text/plain": [
              "       tconst                                              items\n",
              "0   tt0002591           [Harry Liedtke, Martha Angerstein-Licho]\n",
              "1   tt0003689  [William S. Rising, Beulah Poynter, Octave Luz...\n",
              "2   tt0004272  [Wilbur Higby, Francis Ford, Harry Schumm, Ern...\n",
              "3   tt0004336  [Marguerite Snow, Frank Farrington, Florence L...\n",
              "4   tt0005209  [DeWolf Hopper Sr., Julia Faye, Fay Tincher, R...\n",
              "5   tt0005605  [Arthur Bauer, Minnie Berlin, Nolan Gane, Elli...\n",
              "6   tt0005793                   [Flora Morris, Wingold Lawrence]\n",
              "7   tt0006204  [George Periolat, Richard Bennett, Rhoda Lewis...\n",
              "8   tt0006207  [Hal Forde, Helen Lindroth, Francesca Cappelan...\n",
              "9   tt0006441  [Martin Kinney, Doris Pawn, George Walsh, Jame...\n",
              "10  tt0006489  [Dorothy Dalton, William S. Hart, Enid Markey,...\n",
              "11  tt0006587  [Adele Farrington, Emory Johnson, William Canf...\n",
              "12  tt0006819  [Max Ruhbeck, Erich Kaiser-Titz, Paula Ronay, ...\n",
              "13  tt0007011  [Howard Davies, John Burton, Edna Goodrich, Ma...\n",
              "14  tt0007565  [Ronald Squire, Laurence Leyton, Flora Morris,...\n",
              "15  tt0007694  [Madge Evans, Inez Shannon, Jack Drumier, Kitt...\n",
              "16  tt0008160  [Murdock MacQuarrie, Fred Milton, Jewel Carmen...\n",
              "17  tt0008407  [Harold Lockwood, Virginia Rappe, Vera Sisson,...\n",
              "18  tt0008522              [James Harris, Viola Dana, Tom Blake]\n",
              "19  tt0008661  [Tasya Borman, Nikolai Radin, Vjacheslav Svobo...\n",
              "20  tt0008785  [Arthur Ashley, Justine Cutting, Clarence Harv...\n",
              "21  tt0008893  [Blanche Hines, Helen Tracy, June Caprice, Jac...\n",
              "22  tt0009455  [Ormi Hawley, Henry Leone, Crauford Kent, Haze...\n",
              "23  tt0009962  [Charles Bryant, Amy Veness, Frank Currier, Al...\n",
              "24  tt0010060  [Bert Woodruff, Rudolph Valentino, Richard Cum...\n",
              "25  tt0010179  [Helen Dunbar, Beverly Bayne, Valentine Mott, ...\n",
              "26  tt0010670  [Ralph Kellard, Ruth Budd, John Webb Dillion, ...\n",
              "27  tt0010898  [Joseph Burke, Lucy Fox, Percy Marmont, Jean A...\n",
              "28  tt0011011                     [Ica von Lenkeffy, Paul Lukas]\n",
              "29  tt0011031  [Paul Biensfeldt, Henri Peters-Arnolds, Sascha...\n",
              "30  tt0011477  [Irene Hunt, William Courtleigh, Frankie Lee, ...\n",
              "31  tt0011567  [Joseph Burke, Constance Talmadge, Elizabeth G...\n",
              "32  tt0011852  [William Buckley, Walter Hiers, Doris May, Nor...\n",
              "33  tt0011863  [Edith Roberts, Hattie Peters, Thomas Jefferso...\n",
              "34  tt0012065  [Lina de Albuquerque, Joaquim de Oliveira, Joa...\n",
              "35  tt0012139  [Eva Gordon, Shirley Mason, Frances Hancock, C...\n",
              "36  tt0012433  [Charles Meakin, Hattie Buskirk, Eileen Percy,...\n",
              "37  tt0012553  [J.P. Lockney, Marion Feducha, Jack Perrin, Da...\n",
              "38  tt0012698  [Polly Moran, Ethel Teare, Chester Conklin, Bi...\n",
              "39  tt0012810  [Robert Elliott, Grace Beaumont, Alan Edwards,...\n",
              "40  tt0013224  [Roy Atwell, James Neill, Jack Mathis, Noah Be...\n",
              "41  tt0013568  [Dhirendranath Ganguly, Manmatha Pal, Lina Val...\n",
              "42  tt0013588  [Henri Baudin, Paul Jorge, Varvara Yanova, Vla...\n",
              "43  tt0013980  [Cleo Desmond, Evelyn Preer, Mabel Young, Corn...\n",
              "44  tt0014221  [Wilbur Higby, Mabel Trunnelle, Mabel Forrest,...\n",
              "45  tt0014617  [Emil Rameau, Hans Marr, Fritz Kampers, Erich ...\n",
              "46  tt0014870                                     [Gene Cameron]\n",
              "47  tt0015140  [Raymond Hatton, Dorothy Mackaill, Charles Mur...\n",
              "48  tt0015438  [David Powell, Lowell Sherman, Mary Thurman, H...\n",
              "49  tt0015720  [Eric Mayne, Reed Howes, Wilfred Lucas, Jack M..."
            ]
          },
          "metadata": {
            "tags": []
          },
          "execution_count": 63
        }
      ]
    },
    {
      "cell_type": "code",
      "metadata": {
        "id": "GGd23QrGHEQe"
      },
      "source": [
        "from pyspark.ml.fpm import FPGrowth\n",
        "\n",
        "fpGrowth = FPGrowth(itemsCol=\"items\", minSupport=0.00005, minConfidence=0)\n",
        "model = fpGrowth.fit(baskets)\n",
        "\n"
      ],
      "execution_count": null,
      "outputs": []
    },
    {
      "cell_type": "code",
      "metadata": {
        "colab": {
          "base_uri": "https://localhost:8080/"
        },
        "id": "OweXbtwTHVMb",
        "outputId": "41006331-8079-4c26-ea7f-df71ad8aec81"
      },
      "source": [
        "mostPopularItemInABasket = model.freqItemsets\n",
        "mostPopularItemInABasket.createOrReplaceTempView(\"mostPopularItemInABasket\")\n",
        "mostPopularItemInABasket.show()"
      ],
      "execution_count": null,
      "outputs": [
        {
          "output_type": "stream",
          "text": [
            "+--------------------+----+\n",
            "|               items|freq|\n",
            "+--------------------+----+\n",
            "|  [Gérard Depardieu]| 154|\n",
            "|      [Brooke Adams]|  20|\n",
            "|    [E. Alyn Warren]|  25|\n",
            "|    [Rae Dawn Chong]|  27|\n",
            "| [Aleksandr Abdulov]|  47|\n",
            "|  [Miguel Rodriguez]|  39|\n",
            "|  [Vsevolod Safonov]|  24|\n",
            "| [Vladimir Samoylov]|  38|\n",
            "|     [Jorge Reynoso]| 121|\n",
            "|  [Richard Cummings]|  22|\n",
            "|       [Gina Alajar]| 105|\n",
            "|     [Zandro Zamora]|  37|\n",
            "|        [Süha Dogan]|  63|\n",
            "|         [Jean Davy]|  24|\n",
            "|[Aitana Sánchez-G...|  32|\n",
            "|      [Christine Ng]|  21|\n",
            "|      [Britt Morgan]|  31|\n",
            "|[Dhiraj Bhattacha...|  60|\n",
            "|        [Harry Baur]|  45|\n",
            "|          [Lei Zhao]|  57|\n",
            "+--------------------+----+\n",
            "only showing top 20 rows\n",
            "\n"
          ],
          "name": "stdout"
        }
      ]
    },
    {
      "cell_type": "code",
      "metadata": {
        "colab": {
          "base_uri": "https://localhost:8080/"
        },
        "id": "kUViw_0YFqMB",
        "outputId": "a3f0b602-a903-459c-9836-5a900b427bb1"
      },
      "source": [
        "query = \"\"\"select items, freq\n",
        "           from mostPopularItemInABasket\n",
        "           where size(items) > 2\n",
        "           order by freq desc\n",
        "           limit 20\"\"\"\n",
        "spark.sql(query).show()\n",
        "\n"
      ],
      "execution_count": null,
      "outputs": [
        {
          "output_type": "stream",
          "text": [
            "+--------------------+----+\n",
            "|               items|freq|\n",
            "+--------------------+----+\n",
            "|[Kitsuraku Arashi...| 112|\n",
            "|[Suminojo Ichikaw...| 100|\n",
            "|[Suminojo Ichikaw...|  95|\n",
            "|[Suminojo Ichikaw...|  87|\n",
            "|[Suminojo Ichikaw...|  86|\n",
            "|[Sen'nosuke Nakam...|  80|\n",
            "|[Jayabharati, Bah...|  75|\n",
            "|[Thikkurisi Sukum...|  74|\n",
            "|[Sen'nosuke Nakam...|  70|\n",
            "|[Hôshô Bandô, Ens...|  69|\n",
            "|[Suminojo Ichikaw...|  64|\n",
            "|[Sen'nosuke Nakam...|  63|\n",
            "|[Sen'nosuke Nakam...|  62|\n",
            "|[Jayabharati, Pre...|  62|\n",
            "|[Bahadur, Prem Na...|  60|\n",
            "|[Shôzô Arashi, Hô...|  60|\n",
            "|[Takeo Azuma, Hid...|  58|\n",
            "|[Shôzô Arashi, En...|  58|\n",
            "|[Kakumatsuro Aras...|  56|\n",
            "|[Suminojo Ichikaw...|  55|\n",
            "+--------------------+----+\n",
            "\n"
          ],
          "name": "stdout"
        }
      ]
    },
    {
      "cell_type": "code",
      "metadata": {
        "colab": {
          "base_uri": "https://localhost:8080/"
        },
        "id": "JQeuj2ONHY5z",
        "outputId": "5e8cb447-a5b1-4ae7-adfb-40dc7c6bdf37"
      },
      "source": [
        "associationRules = model.associationRules\n",
        "associationRules.createOrReplaceTempView(\"associationRules\")\n",
        "associationRules.show()"
      ],
      "execution_count": null,
      "outputs": [
        {
          "output_type": "stream",
          "text": [
            "+--------------------+------------------+-------------------+------------------+--------------------+\n",
            "|          antecedent|        consequent|         confidence|              lift|             support|\n",
            "+--------------------+------------------+-------------------+------------------+--------------------+\n",
            "|         [Tom Tyler]|   [Frankie Darro]|0.22330097087378642|1046.4680998613037|5.842694345796054...|\n",
            "|[Reza Beyk Imanve...|        [Ali Miri]| 0.2018348623853211|1119.0577594004394|  5.5886641568484E-5|\n",
            "|[Shôzô Arashi, Hô...|     [Okuzan Asao]| 0.5098039215686274| 5017.158823529412|6.604784912639019E-5|\n",
            "|         [Ric Lutze]|       [Rene Bond]|0.42424242424242425|2113.9838895281932|1.066926793580149...|\n",
            "|     [Vishnuvardhan]|      [Leelavathi]|0.14383561643835616|471.84554794520545|5.334633967900745...|\n",
            "|     [Vishnuvardhan]|      [Balkrishna]| 0.1917808219178082| 289.2539757518501|7.112845290534328E-5|\n",
            "|     [Vishnuvardhan]|  [B.S. Dwarakish]|0.15753424657534246|1148.4071537290715|5.842694345796054...|\n",
            "|     [Vishnuvardhan]|         [Ashwath]|0.14383561643835616| 442.3552011986301|5.334633967900745...|\n",
            "|[Hôshô Bandô, Rit...|    [Shôzô Arashi]|              0.625| 3195.243506493506|1.524181133685927...|\n",
            "|[Hôshô Bandô, Rit...|     [Okuzan Asao]| 0.3645833333333333|      3587.9921875| 8.89105661316791E-5|\n",
            "|[Hôshô Bandô, Rit...| [Enshô Jitsukawa]|            0.71875|1607.6068892045455|1.752808303738816...|\n",
            "|[Nobuyo Ôyama, Mi...|[Kaneta Kimotsuki]| 0.9545454545454546|13420.022727272728|5.334633967900745...|\n",
            "|   [Enshô Jitsukawa]|    [Shôzô Arashi]| 0.3352272727272727|1713.8124262101533|1.498778114791162E-4|\n",
            "|   [Enshô Jitsukawa]|     [Okuzan Asao]|0.18181818181818182|1789.3363636363638|8.128966046324945E-5|\n",
            "|   [Enshô Jitsukawa]|   [Ritoku Arashi]| 0.5113636363636364| 972.4654150197629|2.286271700528890...|\n",
            "|   [Enshô Jitsukawa]|     [Hôshô Bandô]| 0.4715909090909091|1205.4782319952774|2.108450568265532...|\n",
            "|[Chosei Kataoka, ...|[Matsunosuke Onoe]|                1.0| 696.7327433628318|5.080603778953090...|\n",
            "|       [Jôji Kaieda]| [Otome Tsukimiya]| 0.3815789473684211|3663.6604621309375|7.366875479481981E-5|\n",
            "|[Shôzô Arashi, Hô...| [Enshô Jitsukawa]| 0.8225806451612904|1839.8418255131965|1.295553963633038E-4|\n",
            "|[Shôzô Arashi, Hô...|   [Ritoku Arashi]|  0.967741935483871|1840.3646563814868|1.524181133685927...|\n",
            "+--------------------+------------------+-------------------+------------------+--------------------+\n",
            "only showing top 20 rows\n",
            "\n"
          ],
          "name": "stdout"
        }
      ]
    },
    {
      "cell_type": "code",
      "metadata": {
        "colab": {
          "base_uri": "https://localhost:8080/"
        },
        "id": "Fv3uaax3GTCm",
        "outputId": "bd8b31bb-b4fc-4f3a-99ca-2344d72aeab7"
      },
      "source": [
        "query = \"\"\"select antecedent as `antecedent (if)`, consequent as `consequent (then)`, confidence\n",
        "           from associationRules\n",
        "           order by confidence desc\n",
        "           limit 20\"\"\"\n",
        "\n",
        "res = spark.sql(query)\n",
        "res.show()\n",
        "\n"
      ],
      "execution_count": null,
      "outputs": [
        {
          "output_type": "stream",
          "text": [
            "+--------------------+------------------+----------+\n",
            "|     antecedent (if)| consequent (then)|confidence|\n",
            "+--------------------+------------------+----------+\n",
            "|[Shôzô Arashi, Hô...|   [Ritoku Arashi]|       1.0|\n",
            "|          [Champion]|      [Gene Autry]|       1.0|\n",
            "|[Rihaku Arashi, C...|    [Kijaku Ôtani]|       1.0|\n",
            "|[Rihaku Arashi, C...|[Matsunosuke Onoe]|       1.0|\n",
            "|[Chosei Kataoka, ...|[Matsunosuke Onoe]|       1.0|\n",
            "|       [Larry Simms]| [Penny Singleton]|       1.0|\n",
            "|       [Larry Simms]|     [Arthur Lake]|       1.0|\n",
            "|[Masao Ômura, Tak...| [Kaichi Yamamoto]|       1.0|\n",
            "|[Utae Nakamura, S...|[Matsunosuke Onoe]|       1.0|\n",
            "|[Chosei Kataoka, ...|[Matsunosuke Onoe]|       1.0|\n",
            "|[Chosei Kataoka, ...|[Matsunosuke Onoe]|       1.0|\n",
            "|       [Rajesh Kava]|  [Jigna Bhardwaj]|       1.0|\n",
            "|[Utae Nakamura, C...|[Matsunosuke Onoe]|       1.0|\n",
            "|[Rihaku Arashi, C...|[Matsunosuke Onoe]|       1.0|\n",
            "|[Utae Nakamura, C...|    [Kijaku Ôtani]|       1.0|\n",
            "|[Black Jack, Roy ...|      [Allan Lane]|       1.0|\n",
            "|[Rihaku Arashi, C...|[Matsunosuke Onoe]|       1.0|\n",
            "|[Utae Nakamura, K...|[Matsunosuke Onoe]|       1.0|\n",
            "|[Rihaku Arashi, C...|    [Kijaku Ôtani]|       1.0|\n",
            "|[David Gerrold, D...| [G. Larry Butler]|       1.0|\n",
            "+--------------------+------------------+----------+\n",
            "\n"
          ],
          "name": "stdout"
        }
      ]
    },
    {
      "cell_type": "code",
      "metadata": {
        "id": "icZp_SZcMwck"
      },
      "source": [
        ""
      ],
      "execution_count": null,
      "outputs": []
    },
    {
      "cell_type": "code",
      "metadata": {
        "colab": {
          "base_uri": "https://localhost:8080/"
        },
        "id": "fz05xoGdHbuk",
        "outputId": "654092ac-a1a8-4c0c-c2d4-68aa7b6f94be"
      },
      "source": [
        "associations = model.transform(baskets)\n",
        "associations.show(n=200)"
      ],
      "execution_count": null,
      "outputs": [
        {
          "output_type": "stream",
          "text": [
            "+---------+--------------------+--------------------+\n",
            "|   tconst|               items|          prediction|\n",
            "+---------+--------------------+--------------------+\n",
            "|tt0002591|[Harry Liedtke, M...|                  []|\n",
            "|tt0003689|[William S. Risin...|                  []|\n",
            "|tt0004272|[Wilbur Higby, Fr...|                  []|\n",
            "|tt0004336|[Marguerite Snow,...|                  []|\n",
            "|tt0005209|[DeWolf Hopper Sr...|                  []|\n",
            "|tt0005605|[Arthur Bauer, Mi...|                  []|\n",
            "|tt0005793|[Flora Morris, Wi...|                  []|\n",
            "|tt0006204|[George Periolat,...|                  []|\n",
            "|tt0006207|[Hal Forde, Helen...|                  []|\n",
            "|tt0006441|[Martin Kinney, D...|                  []|\n",
            "|tt0006489|[Dorothy Dalton, ...|                  []|\n",
            "|tt0006587|[Adele Farrington...|                  []|\n",
            "|tt0006819|[Max Ruhbeck, Eri...|                  []|\n",
            "|tt0007011|[Howard Davies, J...|                  []|\n",
            "|tt0007565|[Ronald Squire, L...|                  []|\n",
            "|tt0007694|[Madge Evans, Ine...|                  []|\n",
            "|tt0008160|[Murdock MacQuarr...|                  []|\n",
            "|tt0008407|[Harold Lockwood,...|                  []|\n",
            "|tt0008522|[James Harris, Vi...|                  []|\n",
            "|tt0008661|[Tasya Borman, Ni...|                  []|\n",
            "|tt0008785|[Arthur Ashley, J...|                  []|\n",
            "|tt0008893|[Blanche Hines, H...|                  []|\n",
            "|tt0009455|[Ormi Hawley, Hen...|                  []|\n",
            "|tt0009962|[Charles Bryant, ...|                  []|\n",
            "|tt0010060|[Bert Woodruff, R...|                  []|\n",
            "|tt0010179|[Helen Dunbar, Be...|                  []|\n",
            "|tt0010670|[Ralph Kellard, R...|                  []|\n",
            "|tt0010898|[Joseph Burke, Lu...|                  []|\n",
            "|tt0011011|[Ica von Lenkeffy...|                  []|\n",
            "|tt0011031|[Paul Biensfeldt,...|                  []|\n",
            "|tt0011477|[Irene Hunt, Will...|                  []|\n",
            "|tt0011567|[Joseph Burke, Co...|                  []|\n",
            "|tt0011852|[William Buckley,...|                  []|\n",
            "|tt0011863|[Edith Roberts, H...|                  []|\n",
            "|tt0012065|[Lina de Albuquer...|                  []|\n",
            "|tt0012139|[Eva Gordon, Shir...|                  []|\n",
            "|tt0012433|[Charles Meakin, ...|                  []|\n",
            "|tt0012553|[J.P. Lockney, Ma...|                  []|\n",
            "|tt0012698|[Polly Moran, Eth...|                  []|\n",
            "|tt0012810|[Robert Elliott, ...|                  []|\n",
            "|tt0013224|[Roy Atwell, Jame...|                  []|\n",
            "|tt0013568|[Dhirendranath Ga...|                  []|\n",
            "|tt0013588|[Henri Baudin, Pa...|                  []|\n",
            "|tt0013980|[Cleo Desmond, Ev...|                  []|\n",
            "|tt0014221|[Wilbur Higby, Ma...|                  []|\n",
            "|tt0014617|[Emil Rameau, Han...|                  []|\n",
            "|tt0014870|      [Gene Cameron]|                  []|\n",
            "|tt0015140|[Raymond Hatton, ...| [Johnny Mack Brown]|\n",
            "|tt0015438|[David Powell, Lo...|                  []|\n",
            "|tt0015720|[Eric Mayne, Reed...|                  []|\n",
            "|tt0015756|[Mayme Kelso, Cla...|                  []|\n",
            "|tt0015952|[Lola Todd, Joe B...|                  []|\n",
            "|tt0016361|[Malcolm McGregor...|                  []|\n",
            "|tt0016395|[Ronald Colman, J...|                  []|\n",
            "|tt0016413|[Vivien Oakland, ...|                  []|\n",
            "|tt0016679|[Shannon Day, Pat...|                  []|\n",
            "|tt0016814|[Elga Brink, Walt...|                  []|\n",
            "|tt0017471|[Doris Hill, Geor...|                  []|\n",
            "|tt0017866|[Reginald Denny, ...|                  []|\n",
            "|tt0018526|[Fred Kohler, Cli...|                  []|\n",
            "|tt0018537|[Kate Fabian, Pet...|                  []|\n",
            "|tt0019239|[Edmund Lowe, Hun...|                  []|\n",
            "|tt0019388|[Josephine Dunn, ...|                  []|\n",
            "|tt0019473|[Margaret Livings...|                  []|\n",
            "|tt0019550|[Jack Holt, Nancy...|                  []|\n",
            "|tt0020007|[Betty Bird, Carl...|                  []|\n",
            "|tt0020474|[Anny Ondra, Euge...|       [Karel Lamac]|\n",
            "|tt0020497|[Edmund Lowe, Nat...|                  []|\n",
            "|tt0020953|[Lowell Sherman, ...|                  []|\n",
            "|tt0021001|[Betty Compson, R...|                  []|\n",
            "|tt0021035|[Ivan Yudin, Bili...|                  []|\n",
            "|tt0021127|[Kurt Gerron, Wal...|                  []|\n",
            "|tt0021156|[Ullrich Haupt, E...|                  []|\n",
            "|tt0021728|[Raymond Hatton, ...| [Johnny Mack Brown]|\n",
            "|tt0021869|[Marjorie Beebe, ...|                  []|\n",
            "|tt0022207|[Winifred Shotter...|                  []|\n",
            "|tt0022905|[Barbara Stanwyck...|                  []|\n",
            "|tt0023787|[Maurice Chevalie...|                  []|\n",
            "|tt0023949|[Phyllis Barry, R...|                  []|\n",
            "|tt0024095|[Stuart Erwin, Al...|                  []|\n",
            "|tt0024348|[Herbert Rawlinso...|                  []|\n",
            "|tt0025037|[Evelyn Venable, ...|                  []|\n",
            "|tt0025594|[Charles Starrett...|[Smiley Burnette,...|\n",
            "|tt0026449|[Chôko Iida, Kinu...|      [Tatsuo Saitô]|\n",
            "|tt0026943|[Michael Shepley,...|                  []|\n",
            "|tt0027156|[Ketti Gallian, J...|                  []|\n",
            "|tt0027292|[Dina Perbellini,...|                  []|\n",
            "|tt0027462|[Jean Rogers, Tom...|                  []|\n",
            "|tt0027610|[Al Bridge, Marga...|     [Frankie Darro]|\n",
            "|tt0027877|[James Ellison, I...|                  []|\n",
            "|tt0028165|[Silvio Hernández...|                  []|\n",
            "|tt0028533|[Pablo Hidalgo, A...|                  []|\n",
            "|tt0028761|[Jack Haley, Mary...|                  []|\n",
            "|tt0028810|[Romney Brent, El...|                  []|\n",
            "|tt0028861|[Rosina Anselmi, ...|                  []|\n",
            "|tt0028890|[June Martel, Joh...|       [Al St. John]|\n",
            "|tt0029464|[Robert Allen, Ha...|                  []|\n",
            "|tt0029486|[Mary Russell, Ra...|[John 'Dusty' Kin...|\n",
            "|tt0029517|[Van Heflin, Mari...|                  []|\n",
            "|tt0029814|[Rafael Falcón, L...|                  []|\n",
            "|tt0030027|[Jack Holt, Dougl...|                  []|\n",
            "|tt0030731|[Ronald Reagan, D...|                  []|\n",
            "|tt0030769|[Jules Berry, Edd...|                  []|\n",
            "|tt0030883|[Lola Lane, Antho...|                  []|\n",
            "|tt0030912|[Harald Heide Ste...|                  []|\n",
            "|tt0031039|[William Frawley,...|                  []|\n",
            "|tt0031323|[Marius Goring, J...|                  []|\n",
            "|tt0031324|[Robert Paige, Ri...|                  []|\n",
            "|tt0031472|[Gustav Diessl, H...|                  []|\n",
            "|tt0031511|[George Ernest, J...|                  []|\n",
            "|tt0031988|[Walter Pidgeon, ...|                  []|\n",
            "|tt0032016|[Edward Rigby, Ed...|                  []|\n",
            "|tt0032224|[Carlo Romano, La...|                  []|\n",
            "|tt0032326|[Lionel Atwill, V...|                  []|\n",
            "|tt0032553|[Billy Gilbert, C...|                  []|\n",
            "|tt0032556|[Mary Beth Hughes...|                  []|\n",
            "|tt0032599|[Rosalind Russell...|                  []|\n",
            "|tt0032741|[Betty Compson, M...|                  []|\n",
            "|tt0032968|[Julia Kent, Elle...|                  []|\n",
            "|tt0033006|[Lili Berky, Kálm...|                  []|\n",
            "|tt0033024|[Claude Rains, Ro...|                  []|\n",
            "|tt0033118|[Apollon Yachnits...|                  []|\n",
            "|tt0033573|[Margaret Lindsay...|                  []|\n",
            "|tt0034114|[Andy Devine, Leo...|                  []|\n",
            "|tt0034269|[George Bancroft,...|                  []|\n",
            "|tt0034290|[Lee 'Lasses' Whi...|                  []|\n",
            "|tt0034484|[Jorge Negrete, C...|                  []|\n",
            "|tt0034529|[Luis Prendes, An...|                  []|\n",
            "|tt0034604|[Bob Steele, Weld...|     [Frankie Darro]|\n",
            "|tt0035339|[Eve Arden, Bert ...|                  []|\n",
            "|tt0035759|[António Silva, M...|                  []|\n",
            "|tt0035769|[Cedric Hardwicke...|                  []|\n",
            "|tt0035788|[Bob Steele, Ken ...|            [Tarzan]|\n",
            "|tt0036077|[Chandraprabha, V...|                  []|\n",
            "|tt0036246|[Zahoor Shah, Mad...|                  []|\n",
            "|tt0036277|[Olivia de Havill...|                  []|\n",
            "|tt0036323|[Bruce Bennett, H...|                  []|\n",
            "|tt0036624|[Thure Bahne, Arv...|                  []|\n",
            "|tt0036771|[Oskar Sima, Jose...|                  []|\n",
            "|tt0036806|[Lars Hanson, Gun...|                  []|\n",
            "|tt0036808|[John Litel, Eric...|                  []|\n",
            "|tt0037459|[Regis Toomey, Ba...|                  []|\n",
            "|tt0037832|[Lowell Gilmore, ...|                  []|\n",
            "|tt0037961|[Frank Jaquet, Pe...|                  []|\n",
            "|tt0038416|[Mary Astor, Robe...|                  []|\n",
            "|tt0038694|[Jacqueline deWit...|                  []|\n",
            "|tt0038811|[Emma Tsesarskaya...|                  []|\n",
            "|tt0038958|[Ann Codee, Miche...|                  []|\n",
            "|tt0039134|[Benny Bartlett, ...|                  []|\n",
            "|tt0039173|[Bob Steele, Eddy...|                  []|\n",
            "|tt0039236|[William Marshall...|                  []|\n",
            "|tt0039305|[Humphrey Bogart,...|                  []|\n",
            "|tt0039431|[Patricia Marshal...|                  []|\n",
            "|tt0039584|[Margaret Lindsay...|                  []|\n",
            "|tt0039896|[Susan Hayward, R...|                  []|\n",
            "|tt0039955|[Josita Hernán, J...|                  []|\n",
            "|tt0040213|[Harold Landon, F...|      [Roy Barcroft]|\n",
            "|tt0040482|[Susan Shaw, Maur...|                  []|\n",
            "|tt0040483|[Carin Cederström...|                  []|\n",
            "|tt0040695|[Jane Wyatt, Raym...|                  []|\n",
            "|tt0041080|[Gustavo Re, Ánge...|                  []|\n",
            "|tt0041676|[Ági Mészáros, Mi...|                  []|\n",
            "|tt0041782|[Reed Howes, Kenn...|      [William Boyd]|\n",
            "|tt0041850|[Ida Wüst, Albert...|                  []|\n",
            "|tt0042303|[Yvonne Sanson, C...|                  []|\n",
            "|tt0042537|[Mercedes Albert,...|                  []|\n",
            "|tt0042679|[Richard Murdoch,...|                  []|\n",
            "|tt0042899|[Scott Forbes, Er...|                  []|\n",
            "|tt0042917|[Eddy Waller, All...|                  []|\n",
            "|tt0042950|[Conrado San Mart...|                  []|\n",
            "|tt0043297|[Riccardo Billi, ...|                  []|\n",
            "|tt0043729|[Lee Roberts, Jim...| [Johnny Mack Brown]|\n",
            "|tt0043783|[Honor Blackman, ...|                  []|\n",
            "|tt0043858|[Manuel Requena, ...|                  []|\n",
            "|tt0043973|[Lowell Gilmore, ...|                  []|\n",
            "|tt0044008|[Mervyn Johns, Ka...|                  []|\n",
            "|tt0044083|[Sally Forrest, J...|                  []|\n",
            "|tt0044431|[Mitzi Green, Sco...|                  []|\n",
            "|tt0044768|[Nicolas Vogel, H...|                  []|\n",
            "|tt0044770|[May Britt, Barba...|                  []|\n",
            "|tt0045015|[John Bentley, Pa...|                  []|\n",
            "|tt0045031|[Lilli Palmer, Ha...|                  []|\n",
            "|tt0045118|[Line Renaud, Geo...|                  []|\n",
            "|tt0045285|[Dieter Borsche, ...|                  []|\n",
            "|tt0045352|[Wilson Wood, Ali...|                  []|\n",
            "|tt0045651|[Enzo Fiermonte, ...|                  []|\n",
            "|tt0045736|[Andrew Ray, Ted ...|                  []|\n",
            "|tt0046277|    [Sayed Suleiman]|                  []|\n",
            "|tt0046949|[Michael Wilding,...|                  []|\n",
            "|tt0047072|[Alan Ladd, Joan ...|                  []|\n",
            "|tt0047313|[Paolo Stoppa, So...|                  []|\n",
            "|tt0047525|[Ted de Corsia, W...|                  []|\n",
            "|tt0047972|[Ayako Wakao, Hid...|                  []|\n",
            "|tt0048006|[Robert Alda, Gin...|                  []|\n",
            "|tt0048104|[Michel Auclair, ...|                  []|\n",
            "|tt0048723|[Larry Parks, Con...|                  []|\n",
            "|tt0049309|[Liselotte Pulver...|                  []|\n",
            "|tt0049448|[Silvana Pampanin...|                  []|\n",
            "|tt0050254|[Folco Lulli, Fra...|                  []|\n",
            "|tt0050651|[Ángel Ter, José ...|                  []|\n",
            "+---------+--------------------+--------------------+\n",
            "only showing top 200 rows\n",
            "\n"
          ],
          "name": "stdout"
        }
      ]
    },
    {
      "cell_type": "code",
      "metadata": {
        "id": "FRI23B5lIddf"
      },
      "source": [
        ""
      ],
      "execution_count": null,
      "outputs": []
    },
    {
      "cell_type": "code",
      "metadata": {
        "id": "lC3SnbKpIdp5"
      },
      "source": [
        ""
      ],
      "execution_count": null,
      "outputs": []
    },
    {
      "cell_type": "code",
      "metadata": {
        "id": "jpxQJchshxfo"
      },
      "source": [
        ""
      ],
      "execution_count": null,
      "outputs": []
    }
  ]
}